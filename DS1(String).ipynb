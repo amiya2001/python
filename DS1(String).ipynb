{
 "cells": [
  {
   "cell_type": "markdown",
   "metadata": {},
   "source": [
    "## Python Data Structure\n",
    "\n",
    "=> In the previous we know the basics of Python.Now we are going to know the Data Structure in Python\n",
    "\n",
    "=> Python data Structure simple includes the following things\n",
    "\n",
    "                           1. Strings\n",
    "                           2. List\n",
    "                           3. Tuples\n",
    "                           4  Dictionary\n",
    "                           5. Sets\n",
    "                           6. Arrays"
   ]
  },
  {
   "cell_type": "markdown",
   "metadata": {},
   "source": [
    "## 1.Python String\n",
    "\n",
    "=> In Python, Strings are arrays of bytes representing Unicode characters.\n",
    "\n",
    "=> However, Python does not have a character data type, a single character is simply a string with a length of 1.\n",
    "\n",
    "=> A string is a sequence of characters. It can be declared in python by using double-quotes.\n",
    "\n",
    "=> Strings are immutable, i.e., they cannot be changed.\n",
    "\n",
    "=> Square brackets can be used to access elements of the string.\n",
    "\n",
    "                                                              a)Creating a String:\n",
    "\n",
    "=> Strings in Python can be created using single quotes or double quotes or even triple quotes.\n",
    "\n",
    "EX:-"
   ]
  },
  {
   "cell_type": "code",
   "execution_count": 1,
   "metadata": {},
   "outputs": [
    {
     "name": "stdout",
     "output_type": "stream",
     "text": [
      "String with the use of Single Quotes: \n",
      "Welcome to the Amiya World\n",
      "\n",
      "String with the use of Double Quotes: \n",
      "I'm a Amiya\n",
      "\n",
      "String with the use of Triple Quotes: \n",
      "I'm a Amiya and I live in a world of \"Love\"\n",
      "\n",
      "Creating a multiline String: \n",
      "Amiya\n",
      "            Python\n",
      "            Tutorial\n"
     ]
    }
   ],
   "source": [
    "# Python Program for\n",
    "# Creation of String\n",
    "  \n",
    "# Creating a String \n",
    "# with single Quotes\n",
    "String1 = 'Welcome to the Amiya World'\n",
    "print(\"String with the use of Single Quotes: \")\n",
    "print(String1)\n",
    "  \n",
    "# Creating a String\n",
    "# with double Quotes\n",
    "String1 = \"I'm a Amiya\"\n",
    "print(\"\\nString with the use of Double Quotes: \")\n",
    "print(String1)\n",
    "  \n",
    "# Creating a String\n",
    "# with triple Quotes\n",
    "String1 = '''I'm a Amiya and I live in a world of \"Love\"'''\n",
    "print(\"\\nString with the use of Triple Quotes: \")\n",
    "print(String1)\n",
    "  \n",
    "# Creating String with triple\n",
    "# Quotes allows multiple lines\n",
    "String1 = '''Amiya\n",
    "            Python\n",
    "            Tutorial'''\n",
    "print(\"\\nCreating a multiline String: \")\n",
    "print(String1)"
   ]
  },
  {
   "cell_type": "markdown",
   "metadata": {},
   "source": [
    "                                                      b) Accessing characters in Python\n",
    "                                                      \n",
    "=> In Python, individual characters of a String can be accessed by using the method of Indexing. \n",
    "\n",
    "=> Indexing allows negative address references to access characters from the back of the String, e.g. -1 refers to the last character, -2 refers to the second last character and so on.\n",
    "\n",
    "=> While accessing an index out of the range will cause an IndexError. \n",
    "\n",
    "=> Only Integers are allowed to be passed as an index, float or other types will cause a TypeError.                                                                  \n",
    "          \n",
    "                                          0 | 1 | 2 | 3 | 4 | 5\n",
    "                                          \n",
    "                                          P | Y | T | H | O | N\n",
    "                                          \n",
    "                                         -6 |-5 |-4 | -3| -2| -1\n",
    "                                         \n",
    "EX:-                                         \n",
    "                                          "
   ]
  },
  {
   "cell_type": "code",
   "execution_count": 3,
   "metadata": {},
   "outputs": [
    {
     "name": "stdout",
     "output_type": "stream",
     "text": [
      "Initial String: \n",
      "Amiya\n",
      "\n",
      "First character of String is: \n",
      "A\n",
      "\n",
      "Last character of String is: \n",
      "a\n"
     ]
    }
   ],
   "source": [
    "# Python Program to Access\n",
    "# characters of String\n",
    "  \n",
    "String1 = \"Amiya\"\n",
    "print(\"Initial String: \")\n",
    "print(String1)\n",
    "  \n",
    "# Printing First character\n",
    "print(\"\\nFirst character of String is: \")\n",
    "print(String1[0])\n",
    "  \n",
    "# Printing Last character\n",
    "print(\"\\nLast character of String is: \")\n",
    "print(String1[-1])"
   ]
  },
  {
   "cell_type": "markdown",
   "metadata": {},
   "source": [
    "                                                             c)String Slicing\n",
    "                                                             \n",
    "=>To access a range of characters in the String, method of slicing is used.\n",
    "\n",
    "=> Slicing in a String is done by using a Slicing operator (colon).  \n",
    "\n",
    "           Syntax:-\n",
    "                           slice(start, stop, step)\n",
    "                           \n",
    "                           or\n",
    "                           \n",
    "                           String[start:stop:step]\n",
    "                           \n",
    "          Parameter:-  \n",
    "            \n",
    "     start:\n",
    "     \n",
    "=> Starting index where the slicing of object starts.\n",
    "  \n",
    "     stop: \n",
    "\n",
    "=> Ending index where the slicing of object stops.\n",
    "\n",
    "     step:\n",
    "\n",
    "=> It is an optional argument that determines the increment between each index for slicing.\n",
    "\n",
    "     Return Type:\n",
    "\n",
    "=> Returns a sliced object containing elements in the given range only.           \n",
    "\n",
    "\n",
    "      NOTE:-\n",
    "=>When we want to print fromlast to fasr or in backward direction then the step should be mention and it must should be -1 or less than -1      "
   ]
  },
  {
   "cell_type": "code",
   "execution_count": 5,
   "metadata": {},
   "outputs": [
    {
     "name": "stdout",
     "output_type": "stream",
     "text": [
      "Initial String: \n",
      "Amiya Python Tutorial\n",
      "\n",
      "Slicing characters from 3-12: \n",
      "ya Python\n",
      "\n",
      "Slicing characters between 3rd and 2nd last character: \n",
      "ya Python Tutori\n",
      "\n",
      "Slicing characters between 12th to 6th character: \n",
      " nohty\n"
     ]
    }
   ],
   "source": [
    "# Python Program to\n",
    "# demonstrate String slicing\n",
    "  \n",
    "# Creating a String\n",
    "String1 = \"Amiya Python Tutorial\"\n",
    "print(\"Initial String: \") \n",
    "print(String1)\n",
    "  \n",
    "# Printing 3rd to 12th character\n",
    "print(\"\\nSlicing characters from 3-12: \")\n",
    "print(String1[3:12])\n",
    "  \n",
    "# Printing characters between \n",
    "# 3rd and 2nd last character\n",
    "print(\"\\nSlicing characters between \" +\n",
    "    \"3rd and 2nd last character: \")\n",
    "print(String1[3:-2])\n",
    "\n",
    "#print character in backword direction\n",
    "#12th to 6th character\n",
    "print(\"\\nSlicing characters between \" +\n",
    "    \"12th to 6th character: \")\n",
    "print(String1[12:6:-1])"
   ]
  },
  {
   "cell_type": "markdown",
   "metadata": {},
   "source": [
    "                                                  d)Deleting/Updating from a String\n",
    "\n",
    "=>In Python, Updation or deletion of characters from a String is not allowed.\n",
    "\n",
    "=>This will cause an error because item assignment or item deletion from a String is not supported.\n",
    "\n",
    "=>Although deletion of entire String is possible with the use of a built-in del keyword.\n",
    "\n",
    "=>This is because Strings are immutable, hence elements of a String cannot be changed once it has been assigned.\n",
    "\n",
    "=>Only new strings can be reassigned to the same name.\n",
    "\n",
    "        Updating a String:-\n",
    "     EX:-   "
   ]
  },
  {
   "cell_type": "code",
   "execution_count": 1,
   "metadata": {},
   "outputs": [
    {
     "name": "stdout",
     "output_type": "stream",
     "text": [
      "Initial String: \n",
      "Hello, I'm a Amiya\n",
      "\n",
      "Updated String: \n",
      "Welcome to the Geek World\n"
     ]
    },
    {
     "ename": "TypeError",
     "evalue": "'str' object does not support item assignment",
     "output_type": "error",
     "traceback": [
      "\u001b[1;31m---------------------------------------------------------------------------\u001b[0m",
      "\u001b[1;31mTypeError\u001b[0m                                 Traceback (most recent call last)",
      "\u001b[1;32m<ipython-input-1-7c1fbe200c3d>\u001b[0m in \u001b[0;36m<module>\u001b[1;34m\u001b[0m\n\u001b[0;32m     13\u001b[0m \u001b[1;31m# Updating a character\u001b[0m\u001b[1;33m\u001b[0m\u001b[1;33m\u001b[0m\u001b[1;33m\u001b[0m\u001b[0m\n\u001b[0;32m     14\u001b[0m \u001b[1;31m# of the String\u001b[0m\u001b[1;33m\u001b[0m\u001b[1;33m\u001b[0m\u001b[1;33m\u001b[0m\u001b[0m\n\u001b[1;32m---> 15\u001b[1;33m \u001b[0mString1\u001b[0m\u001b[1;33m[\u001b[0m\u001b[1;36m2\u001b[0m\u001b[1;33m]\u001b[0m \u001b[1;33m=\u001b[0m \u001b[1;34m'p'\u001b[0m\u001b[1;33m\u001b[0m\u001b[1;33m\u001b[0m\u001b[0m\n\u001b[0m\u001b[0;32m     16\u001b[0m \u001b[0mprint\u001b[0m\u001b[1;33m(\u001b[0m\u001b[1;34m\"\\nUpdating character at 2nd Index: \"\u001b[0m\u001b[1;33m)\u001b[0m\u001b[1;33m\u001b[0m\u001b[1;33m\u001b[0m\u001b[0m\n\u001b[0;32m     17\u001b[0m \u001b[0mprint\u001b[0m\u001b[1;33m(\u001b[0m\u001b[0mString1\u001b[0m\u001b[1;33m)\u001b[0m\u001b[1;31m#it gives TypeError cause String are immutable\u001b[0m\u001b[1;33m\u001b[0m\u001b[1;33m\u001b[0m\u001b[0m\n",
      "\u001b[1;31mTypeError\u001b[0m: 'str' object does not support item assignment"
     ]
    }
   ],
   "source": [
    "# Python Program to Update\n",
    "# character of a String\n",
    "  \n",
    "String1 = \"Hello, I'm a Amiya\"\n",
    "print(\"Initial String: \")\n",
    "print(String1)\n",
    " \n",
    "# Updating a String\n",
    "String1 = \"Welcome to the Geek World\"\n",
    "print(\"\\nUpdated String: \")\n",
    "print(String1)\n",
    "  \n",
    "# Updating a character \n",
    "# of the String\n",
    "String1[2] = 'p'\n",
    "print(\"\\nUpdating character at 2nd Index: \")\n",
    "print(String1)#it gives TypeError cause String are immutable"
   ]
  },
  {
   "cell_type": "markdown",
   "metadata": {},
   "source": [
    "             Deletion of a String\n",
    "        EX:-     "
   ]
  },
  {
   "cell_type": "code",
   "execution_count": null,
   "metadata": {},
   "outputs": [],
   "source": [
    "# Python Program to Delete\n",
    "# characters from a String\n",
    "  \n",
    "String1 = \"Hello, I'm Amiya\"\n",
    "print(\"Initial String: \")\n",
    "print(String1)\n",
    "    \n",
    "# Deleting a String\n",
    "# with the use of del\n",
    "del String1 \n",
    "print(\"\\nDeleting entire String: \")\n",
    "print(String1)\n"
   ]
  },
  {
   "cell_type": "code",
   "execution_count": null,
   "metadata": {},
   "outputs": [],
   "source": [
    "\n",
    "String1 = \"Hello, I'm Amiya\"\n",
    "print(\"Initial String: \")\n",
    "print(String1)\n",
    "\n",
    "# Deleting a character \n",
    "# of the String\n",
    "del String1[2] \n",
    "print(\"\\nDeleting character at 2nd Index: \")\n",
    "print(String1)"
   ]
  },
  {
   "cell_type": "markdown",
   "metadata": {},
   "source": [
    "                                                     e)Escape Sequencing in Python\n",
    " \n",
    "=> While printing Strings with single and double quotes in it causes SyntaxError because String already contains Single and Double Quotes and hence cannot be printed with the use of either of these. \n",
    "\n",
    "=> Hence, to print such a String either Triple Quotes are used or Escape sequences are used to print such Strings.\n",
    "\n",
    "=> Escape sequences start with a backslash (\\) and can be interpreted differently.\n",
    "\n",
    "=>If single quotes are used to represent a string, then all the single quotes present in the string must be escaped and same is done for Double Quotes."
   ]
  },
  {
   "cell_type": "code",
   "execution_count": null,
   "metadata": {},
   "outputs": [],
   "source": [
    "# Python Program for\n",
    "# Escape Sequencing \n",
    "# of String\n",
    "  \n",
    "# Initial String\n",
    "String1 = '''I'm \"Amiya\"'''\n",
    "print(\"Initial String with use of Triple Quotes: \")\n",
    "print(String1)\n",
    "  \n",
    "# Escaping Single Quote \n",
    "String1 = 'I\\'m  \"Amiya2\"'\n",
    "print(\"\\nEscaping Single Quote: \")\n",
    "print(String1)\n",
    "  \n",
    "# Escaping Doule Quotes\n",
    "String1 = \"I'm a \\\"Amiya3\\\"\"\n",
    "print(\"\\nEscaping Double Quotes: \")\n",
    "print(String1)\n",
    "  \n",
    "# Printing Paths with the \n",
    "# use of Escape Sequences\n",
    "String1 = \"C:\\\\Python\\\\Amiya4\\\\\"\n",
    "print(\"\\nEscaping Backslashes: \")\n",
    "print(String1)"
   ]
  },
  {
   "cell_type": "markdown",
   "metadata": {},
   "source": [
    "To ignore the escape sequences in a String, r or R is used, this implies that the string is a raw string and escape sequences inside it are to be ignored.\n",
    "\n",
    "EX:-"
   ]
  },
  {
   "cell_type": "code",
   "execution_count": 19,
   "metadata": {},
   "outputs": [
    {
     "name": "stdout",
     "output_type": "stream",
     "text": [
      "\n",
      "Printing in HEX with the use of Escape Sequences: \n",
      "This is Aeeks in HEX\n",
      "\n",
      "Printing Raw String in HEX Format: \n",
      "This is \\x47\\x65\\x65\\x6b\\x73 in \\x48\\x45\\x58\n"
     ]
    }
   ],
   "source": [
    "# Printing Geeks in HEX\n",
    "String1 = \"This is \\x41\\x65\\x65\\x6b\\x73 in \\x48\\x45\\x58\"\n",
    "print(\"\\nPrinting in HEX with the use of Escape Sequences: \")\n",
    "print(String1)\n",
    "  \n",
    "# Using raw String to \n",
    "# ignore Escape Sequences\n",
    "String1 = r\"This is \\x47\\x65\\x65\\x6b\\x73 in \\x48\\x45\\x58\"\n",
    "print(\"\\nPrinting Raw String in HEX Format: \")\n",
    "print(String1)"
   ]
  },
  {
   "cell_type": "markdown",
   "metadata": {},
   "source": [
    "                                                      f)Formatting of Strings\n",
    "\n",
    "=> Strings in Python can be formatted with the use of format() method which is very versatile and powerful tool for formatting of Strings. \n",
    "\n",
    "=> Format method in String contains curly braces {} as placeholders which can hold arguments according to position or keyword to specify the order.\n",
    "\n",
    "EX:-"
   ]
  },
  {
   "cell_type": "code",
   "execution_count": null,
   "metadata": {},
   "outputs": [],
   "source": [
    "# Python Program for\n",
    "# Formatting of Strings\n",
    "  \n",
    "# Default order\n",
    "String1 = \"{} {} {}\".format('Bulb', 'For', 'Life')\n",
    "print(\"Print String in default order: \")\n",
    "print(String1)\n",
    "  \n",
    "# Positional Formatting\n",
    "String1 = \"{1} {0} {2}\".format('Bulb2', 'For', 'Life')\n",
    "print(\"\\nPrint String in Positional order: \")\n",
    "print(String1)\n",
    "  \n",
    "# Keyword Formatting\n",
    "String1 = \"{l} {f} {g}\".format(g = 'Bulb3', f = 'For', l = 'Life')\n",
    "print(\"\\nPrint String in order of Keywords: \")\n",
    "print(String1)"
   ]
  },
  {
   "cell_type": "markdown",
   "metadata": {},
   "source": [
    "=> Integers such as Binary, hexadecimal, etc. and floats can be rounded or displayed in the exponent form with the use of format specifiers."
   ]
  },
  {
   "cell_type": "code",
   "execution_count": null,
   "metadata": {},
   "outputs": [],
   "source": [
    "# Formatting of Integers\n",
    "String1 = \"{0:b}\".format(16)\n",
    "print(\"\\nBinary representation of 16 is \")\n",
    "print(String1)\n",
    "  \n",
    "# Formatting of Floats\n",
    "String1 = \"{0:e}\".format(165.6458)\n",
    "print(\"\\nExponent representation of 165.6458 is \")\n",
    "print(String1)\n",
    "  \n",
    "# Rounding off Integers\n",
    "String1 = \"{0:.2f}\".format(1/6)\n",
    "print(\"\\none-sixth is : \")\n",
    "print(String1)"
   ]
  },
  {
   "cell_type": "markdown",
   "metadata": {},
   "source": [
    "A string can be left() or center(^) justified with the use of format specifiers, separated by colon(:)."
   ]
  },
  {
   "cell_type": "code",
   "execution_count": null,
   "metadata": {},
   "outputs": [],
   "source": [
    "# String alignment\n",
    "String1 = \"|{:<10}|{:^10}|{:>10}|\".format('Amiya','for','Python')\n",
    "print(\"\\nLeft, center and right alignment with Formatting: \")\n",
    "print(String1)\n",
    "  \n",
    "# To demonstrate aligning of spaces \n",
    "String1 = \"\\n{0:^16} was founded in {1:<4}!\".format(\"Ankit Bhuyan\", 2009)\n",
    "print(String1)"
   ]
  },
  {
   "cell_type": "markdown",
   "metadata": {},
   "source": [
    "Old style formatting was done without the use of format method by using % operator\n"
   ]
  },
  {
   "cell_type": "code",
   "execution_count": null,
   "metadata": {},
   "outputs": [],
   "source": [
    "# Python Program for\n",
    "# Old Style Formatting\n",
    "# of Integers\n",
    "  \n",
    "Integer1 = 12.3456789\n",
    "print(\"Formatting in 3.2f format: \")\n",
    "print('The value of Integer1 is %3.2f' %Integer1)\n",
    "print(\"\\nFormatting in 3.4f format: \")\n",
    "print('The value of Integer1 is %3.4f' %Integer1)"
   ]
  },
  {
   "cell_type": "markdown",
   "metadata": {},
   "source": [
    "                          String constants\n",
    "                          \n",
    "    Built-In Function                          Description\n",
    "               \n",
    "string.ascii_letters----------------------Concatenation of the ascii_lowercase and ascii_uppercase constants.\n",
    "\n",
    "string.ascii_lowercase--------------------Concatenation of lowercase letters\n",
    "\n",
    "string.ascii_uppercase--------------------Concatenation of uppercase letters\n",
    "\n",
    "string.digits-----------------------------Digit in strings\n",
    "\n",
    "string.hexdigits--------------------------Hexadigit in strings\n",
    "\n",
    "string.letters----------------------------concatenation of the strings lowercase and uppercase\n",
    "\n",
    "string.lowercase--------------------------A string must contain lowercase letters.\n",
    "\n",
    "string.octdigits--------------------------Octadigit in a string\n",
    "\n",
    "string.punctuation------------------------ASCII characters having punctuation characters.\n",
    "\n",
    "string.printable--------------------------String of characters which are printable\n",
    "\n",
    "String.endswith()-------------------------Returns True if a string ends with the given suffix otherwise returns False\n",
    "\n",
    "String.startswith()-----------------------Returns True if a string starts with the given prefix otherwise returns False\n",
    "\n",
    "String.isdigit()--------------------------Returns “True” if all characters in the string are digits, Otherwise, It returns “False”.\n",
    "\n",
    "String.isalpha()--------------------------Returns “True” if all characters in the string are alphabets, Otherwise, It returns “False”.\n",
    "\n",
    "string.isdecimal()------------------------Returns true if all characters in a string are decimal.\n",
    "\n",
    "str.format()------------------------------one of the string formatting methods in Python3, which allows multiple substitutions and value formatting.\n",
    "\n",
    "String.index------------------------------Returns the position of the first occurrence of substring in a string\n",
    "\n",
    "string.uppercase--------------------------A string must contain uppercase letters.\n",
    "\n",
    "string.whitespace-------------------------A string containing all characters that are considered whitespace.\n",
    "\n",
    "string.swapcase()-------------------------Method converts all uppercase characters to lowercase and vice versa of the given string, and returns it\n",
    "\n",
    "replace()---------------------------------returns a copy of the string where all occurrences of a substring is replaced with another substring."
   ]
  },
  {
   "cell_type": "markdown",
   "metadata": {},
   "source": [
    "                         Deprecated string functions\n",
    "                         \n",
    "    Built-In Function                                        Description\n",
    "    \n",
    "string.Isdecimal--------------------------------------Returns true if all characters in a string are decimal\n",
    "\n",
    "String.Isalnum----------------------------------------Returns true if all the characters in a given string are alphanumeric.\n",
    "\n",
    "string.Istitle----------------------------------------Returns True if the string is a titlecased string\n",
    "\n",
    "String.partition--------------------------------------splits the string at the first occurrence of the separator and returns a tuple.\n",
    "\n",
    "String.Isidentifier-----------------------------------Check whether a string is a valid identifier or not.\n",
    "\n",
    "String.len--------------------------------------------Returns the length of the string.\n",
    "\n",
    "String.rindex-----------------------------------------Returns the highest index of the substring inside the string if substring is found.\n",
    "\n",
    "String.Max--------------------------------------------Returns the highest alphabetical character in a string.\n",
    "\n",
    "String.min--------------------------------------------Returns the minimum alphabetical character in a string.\n",
    "\n",
    "String.splitlines-------------------------------------Returns a list of lines in the string.\n",
    "\n",
    "string.capitalize-------------------------------------Return a word with its first character capitalized.\n",
    "\n",
    "string.expandtabs-------------------------------------Expand tabs in a string replacing them by one or more spaces\n",
    "\n",
    "string.find-------------------------------------------Return the lowest indexin a sub string.\n",
    "\n",
    "string.rfind------------------------------------------find the highest index.\n",
    "\n",
    "string.count------------------------------------------Return the number of (non-overlapping) occurrences of substring sub in string\n",
    "\n",
    "string.lower------------------------------------------Return a copy of s, but with upper case letters converted to lower case.\n",
    "\n",
    "string.split------------------------------------------Return a list of the words of the string,If the optional second argument sep is absent or None\n",
    "\n",
    "string.rsplit()---------------------------------------Return a list of the words of the string s, scanning s from the end.\n",
    "\n",
    "rpartition()------------------------------------------Method splits the given string into three parts\n",
    "\n",
    "string.splitfields------------------------------------Return a list of the words of the string when only used with two arguments.\n",
    "\n",
    "string.join-------------------------------------------Concatenate a list or tuple of words with intervening occurrences of sep.\n",
    "\n",
    "string.strip()----------------------------------------It return a copy of the string with both leading and trailing characters removed\n",
    "\n",
    "string.lstrip-----------------------------------------Return a copy of the string with leading characters removed.\n",
    "\n",
    "string.rstrip-----------------------------------------Return a copy of the string with trailing characters removed.\n",
    "\n",
    "string.swapcase---------------------------------------Converts lower case letters to upper case and vice versa.\n",
    "\n",
    "string.translate--------------------------------------translate the characters using table\n",
    "\n",
    "string.upper------------------------------------------lower case letters converted to upper case.\n",
    "\n",
    "string.ljust------------------------------------------left-justify in a field of given width.\n",
    "\n",
    "string.rjust------------------------------------------Right-justify in a field of given width.\n",
    "\n",
    "string.center()---------------------------------------Center-justify in a field of given width.\n",
    "\n",
    "string-zfill------------------------------------------Pad a numeric string on the left with zero digits until the given width is reached.\n",
    "\n",
    "string.replace----------------------------------------Return a copy of string s with all occurrences of substring old replaced by new.\n",
    "\n",
    "string.casefold()-------------------------------------Returns the string in lowercase which can be used for caseless comparisons.\n",
    "\n",
    "string.encode-----------------------------------------Encodes the string into any encoding supported by Python.Default encoding is utf-8.\n",
    "\n",
    "string.maketrans--------------------------------------Returns a translation table usable for str.translate()"
   ]
  },
  {
   "cell_type": "code",
   "execution_count": null,
   "metadata": {},
   "outputs": [],
   "source": []
  }
 ],
 "metadata": {
  "kernelspec": {
   "display_name": "Python 3",
   "language": "python",
   "name": "python3"
  },
  "language_info": {
   "codemirror_mode": {
    "name": "ipython",
    "version": 3
   },
   "file_extension": ".py",
   "mimetype": "text/x-python",
   "name": "python",
   "nbconvert_exporter": "python",
   "pygments_lexer": "ipython3",
   "version": "3.8.5"
  }
 },
 "nbformat": 4,
 "nbformat_minor": 4
}
