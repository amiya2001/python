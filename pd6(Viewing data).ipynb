{
 "cells": [
  {
   "cell_type": "markdown",
   "metadata": {},
   "source": [
    "## 5.Viewing Data\n",
    "\n",
    "* $View$ $the$ $top$ $rows$ $of$ $the$ $frame$ $:-$\n",
    "\n",
    "-> Pandas head() method is used to return top n (5 by default) rows of a data frame or series.\n",
    "\n",
    "    Syntax:- Dataframe.head(n=5)\n",
    "\n",
    "    Parameters:-\n",
    "    \n",
    "$n:$ integer value, number of rows to be returned\n",
    "\n",
    "$Return$ $type:$ Dataframe with top n rows"
   ]
  },
  {
   "cell_type": "code",
   "execution_count": null,
   "metadata": {},
   "outputs": [],
   "source": [
    "# importing pandas module\n",
    "import pandas as pd\n",
    "  \n",
    "# making data frame\n",
    "data = pd.read_csv(r\"C:\\Users\\ASUS\\Documents\\All CSV fILe For Pandas\\pd1.csv\")\n",
    "  \n",
    "# calling head() method \n",
    "# storing in new variable\n",
    "data_top = data.head()\n",
    "  \n",
    "# display\n",
    "print(data_top)\n",
    "\n",
    "data_top = data.head(12)\n",
    "data_top  "
   ]
  },
  {
   "cell_type": "markdown",
   "metadata": {},
   "source": [
    "     Example #2:-\n",
    "     \n",
    "* Calling on Series with n parameter()\n",
    "\n",
    "* In this example, the .head() method is called on series with custom input of n parameter to return top 9 rows of the series."
   ]
  },
  {
   "cell_type": "code",
   "execution_count": null,
   "metadata": {},
   "outputs": [],
   "source": [
    "# number of rows to return\n",
    "n = 9\n",
    "  \n",
    "# creating series\n",
    "series = data[\"Name\"]\n",
    "  \n",
    "# returning top n rows\n",
    "top = series.head(n)\n",
    "  \n",
    "# display\n",
    "top"
   ]
  },
  {
   "cell_type": "markdown",
   "metadata": {},
   "source": [
    "* $View$ $the$ $bottom$ $rows$ $of$ $the$ $frame$ $:-$\n",
    "\n",
    "-> Pandas tail() method is used to return bottom n (5 by default) rows of a data frame or series.\n",
    "\n",
    "         Syntax: Dataframe.tail(n=5)\n",
    "\n",
    "         Parameters:-\n",
    "         \n",
    "$n:$ integer value, number of rows to be returned\n",
    "\n",
    "$Return$ $type:$ Dataframe with bottom n rows\n",
    "\n",
    "    Example #1:-\n",
    "    \n",
    "-> In this example, bottom 5 rows of data frame are returned and stored in a new variable. No parameter is passed to $.tail()$ method since by default it is 5."
   ]
  },
  {
   "cell_type": "code",
   "execution_count": null,
   "metadata": {},
   "outputs": [],
   "source": [
    "  \n",
    "# making data frame\n",
    "data = pd.read_csv(r\"C:\\Users\\ASUS\\Documents\\All CSV fILe For Pandas\\pd1.csv\")\n",
    "  \n",
    "# calling head() method \n",
    "# storing in new variable\n",
    "data_tail = data.tail()\n",
    "  \n",
    "# display\n",
    "print(data_tail)\n",
    "\n",
    "data_tail = data.tail(12)\n",
    "data_tail  "
   ]
  },
  {
   "cell_type": "markdown",
   "metadata": {},
   "source": [
    "     Example #2:-\n",
    "\n",
    "Calling on Series with n parameter()"
   ]
  },
  {
   "cell_type": "code",
   "execution_count": null,
   "metadata": {},
   "outputs": [],
   "source": [
    "# number of rows to return\n",
    "n = 12\n",
    "  \n",
    "# creating series\n",
    "series = data[\"Branch\"]\n",
    "  \n",
    "# returning top n rows\n",
    "bottom = series.tail(n = n)\n",
    "  \n",
    "# display\n",
    "bottom"
   ]
  },
  {
   "cell_type": "markdown",
   "metadata": {},
   "source": [
    "* $View$ $basic$ $statistical$ $details$ $:-$\n",
    "\n",
    "-> Pandas $describe()$ is used to view some basic statistical details like percentile, mean, std etc. of a data frame or a series of numeric values. \n",
    "\n",
    "-> When this method is applied to a series of string, it returns a different output which is shown in the examples below.\n",
    "\n",
    "        Syntax: DataFrame.describe(percentiles=None, include=None, exclude=None)\n",
    "\n",
    "      Parameters:-\n",
    "      \n",
    "$percentile:$ list like data type of numbers between 0-1 to return the respective percentile\n",
    "\n",
    "$include:$List of data types to be included while describing dataframe. Default is None\n",
    "\n",
    "$exclude:$ List of data types to be Excluded while describing dataframe. Default is None\n",
    "\n",
    "$Return$ $type:$ Statistical summary of data fra"
   ]
  },
  {
   "cell_type": "code",
   "execution_count": null,
   "metadata": {},
   "outputs": [],
   "source": [
    "# making data frame \n",
    "data = pd.read_csv(r\"C:\\Users\\ASUS\\Documents\\All CSV fILe For Pandas\\pd1.csv\") \n",
    "print(data)    \n",
    "# removing null values to avoid errors \n",
    "data.dropna(inplace = True) \n",
    "  \n",
    "# percentile list\n",
    "perc =[.20, .40, .60, .80]\n",
    "  \n",
    "# list of dtypes to include\n",
    "include =['object', 'float', 'int']\n",
    "  \n",
    "# calling describe method\n",
    "desc = data.describe(percentiles = perc, include = include)\n",
    "  \n",
    "# display\n",
    "desc"
   ]
  },
  {
   "cell_type": "markdown",
   "metadata": {},
   "source": [
    "      Example #2:-\n",
    "      \n",
    "Describing series of strings\n",
    "\n",
    "In this example, the describe method is called by the Name column to see the behaviour with object data type."
   ]
  },
  {
   "cell_type": "code",
   "execution_count": null,
   "metadata": {},
   "outputs": [],
   "source": [
    "# calling describe method\n",
    "desc = data[\"Name\"].describe()\n",
    "  \n",
    "# display\n",
    "desc"
   ]
  },
  {
   "cell_type": "markdown",
   "metadata": {},
   "source": [
    "* $Convert$ $the$ $pandas$ $DataFrame$ $to$ $numpy$ $Array$ $:-$\n",
    "\n",
    "-> This data structure can be converted to NumPy ndarray with the help of $Dataframe.to_numpy()$ method.\n",
    "\n",
    "             Syntax: Dataframe.to_numpy(dtype = None, copy = False)\n",
    "\n",
    "             Parameters:-\n",
    "             \n",
    "$dtype:$ Data type which we are passing like str.\n",
    "\n",
    "$copy:$ [bool, default False] Ensures that the returned value is a not a view on another array.\n",
    "\n",
    "\n",
    "$Returns:$ numpy.ndarray"
   ]
  },
  {
   "cell_type": "markdown",
   "metadata": {},
   "source": [
    "     Example 1:-\n",
    "     \n",
    "-> Changing the DataFrame into numpy array by using a method $DataFrame.to_numpy()$. \n",
    "\n",
    "-> Always remember that when dealing with lot of data you should clean the data first to get the high accuracy. \n",
    "\n",
    "-> Although in this code we use the first five values of Weight column by using .head() method."
   ]
  },
  {
   "cell_type": "code",
   "execution_count": null,
   "metadata": {},
   "outputs": [],
   "source": [
    "# reading the csv  \n",
    "data = pd.read_csv(r\"C:\\Users\\ASUS\\Documents\\All CSV fILe For Pandas\\pd1.csv\") \n",
    "      \n",
    "data.dropna(inplace = True)\n",
    "   \n",
    "# creating DataFrame form weight column\n",
    "num = pd.DataFrame(data['Roll No'].head(15))\n",
    "   \n",
    "# using to_numpy() function\n",
    "print(num.to_numpy(),'\\n')\n",
    "\n",
    "# providing dtype\n",
    "print(num.to_numpy(dtype='float64'))"
   ]
  },
  {
   "cell_type": "markdown",
   "metadata": {},
   "source": [
    "     Convert the pandas Series to numpy Array:-\n"
   ]
  },
  {
   "cell_type": "code",
   "execution_count": 29,
   "metadata": {},
   "outputs": [
    {
     "name": "stdout",
     "output_type": "stream",
     "text": [
      "[17 38 28 45 34 29 57 39 31 55 21 22 42 54 15] \n",
      "\n",
      "[17. 38. 28. 45. 34. 29. 57. 39. 31. 55. 21. 22. 42. 54. 15.]\n"
     ]
    }
   ],
   "source": [
    "# reading the csv  \n",
    "data = pd.read_csv(r\"C:\\Users\\ASUS\\Documents\\All CSV fILe For Pandas\\pd1.csv\") \n",
    "      \n",
    "data.dropna(inplace = True)\n",
    "   \n",
    "# creating DataFrame form weight column\n",
    "num = pd.Series(data['Roll No'].head(15))\n",
    "   \n",
    "# using to_numpy() function\n",
    "print(num.to_numpy(),'\\n')\n",
    "\n",
    "# providing dtype\n",
    "print(num.to_numpy(dtype='float64'))"
   ]
  },
  {
   "cell_type": "markdown",
   "metadata": {},
   "source": [
    "* $Convert$ $series$ $or$ $dataframe$ $object$ $to$ $Numpy-array$ $using$ $.as$_$matrix()$ $:-$"
   ]
  },
  {
   "cell_type": "markdown",
   "metadata": {},
   "source": [
    "-> Pandas $Series.as$$_$$atrix()$ function is used to convert the given series or dataframe object to Numpy-array representation.\n",
    "\n",
    "             Syntax: Series.as_matrix(columns=None)\n",
    "\n",
    "             Parameter :-\n",
    "             \n",
    "$columns :$ If None, return all columns, otherwise, returns specified columns.\n",
    "\n",
    "$Returns :$ values : ndarray\n",
    "\n",
    "     Example #1:-\n",
    "     \n",
    "->Use $Series.as$ $_$ $matrix()$ function to return the numpy-array representation of the given series object."
   ]
  },
  {
   "cell_type": "code",
   "execution_count": 31,
   "metadata": {},
   "outputs": [
    {
     "name": "stdout",
     "output_type": "stream",
     "text": [
      "City 1    New York\n",
      "City 2     Chicago\n",
      "City 3     Toronto\n",
      "City 4      Lisbon\n",
      "City 5         Rio\n",
      "dtype: object\n"
     ]
    },
    {
     "ename": "AttributeError",
     "evalue": "'Series' object has no attribute 'as_matrix'",
     "output_type": "error",
     "traceback": [
      "\u001b[1;31m---------------------------------------------------------------------------\u001b[0m",
      "\u001b[1;31mAttributeError\u001b[0m                            Traceback (most recent call last)",
      "\u001b[1;32m<ipython-input-31-98461766f77a>\u001b[0m in \u001b[0;36m<module>\u001b[1;34m\u001b[0m\n\u001b[0;32m     12\u001b[0m \u001b[1;33m\u001b[0m\u001b[0m\n\u001b[0;32m     13\u001b[0m \u001b[1;31m# return numpy array representation\u001b[0m\u001b[1;33m\u001b[0m\u001b[1;33m\u001b[0m\u001b[1;33m\u001b[0m\u001b[0m\n\u001b[1;32m---> 14\u001b[1;33m \u001b[0mresult\u001b[0m \u001b[1;33m=\u001b[0m \u001b[0msr\u001b[0m\u001b[1;33m.\u001b[0m\u001b[0mas_matrix\u001b[0m\u001b[1;33m(\u001b[0m\u001b[1;33m)\u001b[0m\u001b[1;33m\u001b[0m\u001b[1;33m\u001b[0m\u001b[0m\n\u001b[0m\u001b[0;32m     15\u001b[0m \u001b[1;33m\u001b[0m\u001b[0m\n\u001b[0;32m     16\u001b[0m \u001b[1;31m# Print the result\u001b[0m\u001b[1;33m\u001b[0m\u001b[1;33m\u001b[0m\u001b[1;33m\u001b[0m\u001b[0m\n",
      "\u001b[1;32m~\\anaconda3\\lib\\site-packages\\pandas\\core\\generic.py\u001b[0m in \u001b[0;36m__getattr__\u001b[1;34m(self, name)\u001b[0m\n\u001b[0;32m   5137\u001b[0m             \u001b[1;32mif\u001b[0m \u001b[0mself\u001b[0m\u001b[1;33m.\u001b[0m\u001b[0m_info_axis\u001b[0m\u001b[1;33m.\u001b[0m\u001b[0m_can_hold_identifiers_and_holds_name\u001b[0m\u001b[1;33m(\u001b[0m\u001b[0mname\u001b[0m\u001b[1;33m)\u001b[0m\u001b[1;33m:\u001b[0m\u001b[1;33m\u001b[0m\u001b[1;33m\u001b[0m\u001b[0m\n\u001b[0;32m   5138\u001b[0m                 \u001b[1;32mreturn\u001b[0m \u001b[0mself\u001b[0m\u001b[1;33m[\u001b[0m\u001b[0mname\u001b[0m\u001b[1;33m]\u001b[0m\u001b[1;33m\u001b[0m\u001b[1;33m\u001b[0m\u001b[0m\n\u001b[1;32m-> 5139\u001b[1;33m             \u001b[1;32mreturn\u001b[0m \u001b[0mobject\u001b[0m\u001b[1;33m.\u001b[0m\u001b[0m__getattribute__\u001b[0m\u001b[1;33m(\u001b[0m\u001b[0mself\u001b[0m\u001b[1;33m,\u001b[0m \u001b[0mname\u001b[0m\u001b[1;33m)\u001b[0m\u001b[1;33m\u001b[0m\u001b[1;33m\u001b[0m\u001b[0m\n\u001b[0m\u001b[0;32m   5140\u001b[0m \u001b[1;33m\u001b[0m\u001b[0m\n\u001b[0;32m   5141\u001b[0m     \u001b[1;32mdef\u001b[0m \u001b[0m__setattr__\u001b[0m\u001b[1;33m(\u001b[0m\u001b[0mself\u001b[0m\u001b[1;33m,\u001b[0m \u001b[0mname\u001b[0m\u001b[1;33m:\u001b[0m \u001b[0mstr\u001b[0m\u001b[1;33m,\u001b[0m \u001b[0mvalue\u001b[0m\u001b[1;33m)\u001b[0m \u001b[1;33m->\u001b[0m \u001b[1;32mNone\u001b[0m\u001b[1;33m:\u001b[0m\u001b[1;33m\u001b[0m\u001b[1;33m\u001b[0m\u001b[0m\n",
      "\u001b[1;31mAttributeError\u001b[0m: 'Series' object has no attribute 'as_matrix'"
     ]
    }
   ],
   "source": [
    "  \n",
    "# Creating the Series\n",
    "sr = pd.Series(['New York', 'Chicago', 'Toronto', 'Lisbon', 'Rio'])\n",
    "  \n",
    "# Create the Index\n",
    "index_ = ['City 1', 'City 2', 'City 3', 'City 4', 'City 5'] \n",
    "  \n",
    "# set the index\n",
    "sr.index = index_\n",
    "  \n",
    "# Print the series\n",
    "print(sr)\n",
    "\n",
    "# return numpy array representation\n",
    "result = sr.as_matrix()\n",
    "  \n",
    "# Print the result\n",
    "print(result)"
   ]
  },
  {
   "cell_type": "code",
   "execution_count": null,
   "metadata": {},
   "outputs": [],
   "source": []
  }
 ],
 "metadata": {
  "kernelspec": {
   "display_name": "Python 3",
   "language": "python",
   "name": "python3"
  },
  "language_info": {
   "codemirror_mode": {
    "name": "ipython",
    "version": 3
   },
   "file_extension": ".py",
   "mimetype": "text/x-python",
   "name": "python",
   "nbconvert_exporter": "python",
   "pygments_lexer": "ipython3",
   "version": "3.8.5"
  }
 },
 "nbformat": 4,
 "nbformat_minor": 4
}
