{
 "cells": [
  {
   "cell_type": "markdown",
   "metadata": {},
   "source": [
    "## Pandas Series Practice Assignment"
   ]
  },
  {
   "cell_type": "markdown",
   "metadata": {},
   "source": [
    "##1.  Write a Pandas program to create and display a one-dimensional array-like object containing an array of data using Pandas module. "
   ]
  },
  {
   "cell_type": "code",
   "execution_count": null,
   "metadata": {},
   "outputs": [],
   "source": [
    "import pandas as pd\n",
    "import numpy as np\n",
    "Name = ['Amiya','Ankit','Arka','Ayas',\n",
    "        'Amitab','Lala','Ganesh','Dipanshu',\n",
    "        'Ashis','Rajesh','Prateek']\n",
    "ser = pd.Series(Name)\n",
    "ser"
   ]
  },
  {
   "cell_type": "markdown",
   "metadata": {},
   "source": [
    "##2.  Write a Pandas program to convert a Panda module Series to Python list and it's type. "
   ]
  },
  {
   "cell_type": "code",
   "execution_count": null,
   "metadata": {},
   "outputs": [],
   "source": [
    "'''print('Pandas Series and type :',type(ser))\n",
    "print(ser.tolist())\n",
    "print('After Convert type of Series: ')\n",
    "print(type(ser.tolist()))'''"
   ]
  },
  {
   "cell_type": "markdown",
   "metadata": {},
   "source": [
    "##3. Write a Pandas program to add, subtract, multiple and divide two Pandas Series"
   ]
  },
  {
   "cell_type": "code",
   "execution_count": null,
   "metadata": {},
   "outputs": [],
   "source": [
    "'''ser1 = pd.Series([2, 4, 6, 8, 10])\n",
    "ser2 = pd.Series([1, 3, 5, 7, 9])\n",
    "print(ser1)\n",
    "print(ser2)\n",
    "print('Adding\\n',ser1+ser2)\n",
    "print('Substracting\\n',ser1-ser2)\n",
    "rint('Multipling\\n',ser1*ser2)\n",
    "print('Dividing\\n' ,ser1/ser2)'''"
   ]
  },
  {
   "cell_type": "markdown",
   "metadata": {},
   "source": [
    "##4. Write a Pandas program to compare the elements of the two Pandas Series"
   ]
  },
  {
   "cell_type": "code",
   "execution_count": null,
   "metadata": {},
   "outputs": [],
   "source": [
    "ser1 = pd.Series([2, 4, 6, 8, 10])\n",
    "ser2 = pd.Series([1, 3, 5, 7, 10])\n",
    "print(ser1==ser2)\n",
    "print(ser1>ser2)\n",
    "print(ser1<ser2)\n",
    "print(ser1>=ser2)\n",
    "print(ser1<=ser2)\n"
   ]
  },
  {
   "cell_type": "markdown",
   "metadata": {},
   "source": [
    "##5. Write a Pandas program to convert a dictionary to a Pandas series."
   ]
  },
  {
   "cell_type": "code",
   "execution_count": null,
   "metadata": {},
   "outputs": [],
   "source": [
    "Dict = {'a':'Ankit','b':'Arka','c':'Ayaskant',\n",
    "        'd':'Dipanshu','e':'Rajesh','f':'Amitab'}\n",
    "dser = pd.Series(Dict)\n",
    "dser"
   ]
  },
  {
   "cell_type": "markdown",
   "metadata": {},
   "source": [
    "##6. Write a Pandas program to convert a NumPy array to a Pandas series."
   ]
  },
  {
   "cell_type": "code",
   "execution_count": null,
   "metadata": {},
   "outputs": [],
   "source": [
    "arr = np.array([12,34,73,64])\n",
    "arrser = pd.Series(arr)\n",
    "arrser"
   ]
  },
  {
   "cell_type": "markdown",
   "metadata": {},
   "source": [
    "##7. Write a Pandas program to change the data type of given a column or a Series"
   ]
  },
  {
   "cell_type": "code",
   "execution_count": null,
   "metadata": {},
   "outputs": [],
   "source": [
    "ds=pd.Series([12,234,'Python',67,'Series',76])\n",
    "print(ds)\n",
    "print(type(ds))\n",
    "ds2=pd.to_numeric(ds,errors='coerce')\n",
    "print(ds2)"
   ]
  },
  {
   "cell_type": "markdown",
   "metadata": {},
   "source": [
    "##8. Write a Pandas program to convert the first column of a DataFrame as a Series."
   ]
  },
  {
   "cell_type": "code",
   "execution_count": null,
   "metadata": {},
   "outputs": [],
   "source": [
    "dic={'col1':[1,2,3,4,7,11],\n",
    "      'col2':[4,5,6,9,5,0],\n",
    "      'col3':[7,5,8,12,1,11]}\n",
    "df=pd.DataFrame(dic)\n",
    "print(df)\n",
    "ser=pd.Series(df.col1)\n",
    "print(ser)"
   ]
  },
  {
   "cell_type": "markdown",
   "metadata": {},
   "source": [
    "##9. Write a Pandas program to convert a given Series to an array."
   ]
  },
  {
   "cell_type": "code",
   "execution_count": null,
   "metadata": {},
   "outputs": [],
   "source": [
    "ser=pd.Series([100, 200 ,'python' \n",
    "               ,300.12, 400])\n",
    "arr=np.array(ser)\n",
    "print(ser)\n",
    "print(arr)"
   ]
  },
  {
   "cell_type": "code",
   "execution_count": null,
   "metadata": {},
   "outputs": [],
   "source": []
  }
 ],
 "metadata": {
  "kernelspec": {
   "display_name": "Python 3",
   "language": "python",
   "name": "python3"
  },
  "language_info": {
   "codemirror_mode": {
    "name": "ipython",
    "version": 3
   },
   "file_extension": ".py",
   "mimetype": "text/x-python",
   "name": "python",
   "nbconvert_exporter": "python",
   "pygments_lexer": "ipython3",
   "version": "3.8.5"
  }
 },
 "nbformat": 4,
 "nbformat_minor": 4
}
