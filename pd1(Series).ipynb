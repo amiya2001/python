{
 "cells": [
  {
   "cell_type": "markdown",
   "metadata": {},
   "source": [
    "## Pandas Tutorial"
   ]
  },
  {
   "cell_type": "markdown",
   "metadata": {},
   "source": [
    "--> Pandas is an open-source library that is built on top of NumPy library.\n",
    "\n",
    "--> It is a Python package that offers various data structures and operations for manipulating numerical data and time series.\n",
    "\n",
    "--> It is mainly popular for importing and analyzing data much easier.\n",
    "\n",
    "--> Pandas is fast and it has high-performance & productivity for users."
   ]
  },
  {
   "cell_type": "markdown",
   "metadata": {},
   "source": [
    "##             Introduction"
   ]
  },
  {
   "cell_type": "markdown",
   "metadata": {},
   "source": [
    "\n",
    "--> Pandas was initially developed by Wes McKinney in 2008 while he was working at AQR Capital Management. \n",
    "\n",
    "                                                            Advantages\n",
    "                             \n",
    "--> Fast and efficient for manipulating and analyzing data.\n",
    "\n",
    "--> Data from different file objects can be loaded.\n",
    "\n",
    "--> Easy handling of missing data (represented as NaN) in floating point as well as non-floating point data\n",
    "\n",
    "--> Size mutability: columns can be inserted and deleted from DataFrame and higher dimensional objects\n",
    "\n",
    "--> Data set merging and joining.\n",
    "\n",
    "-> Flexible reshaping and pivoting of data sets\n",
    "\n",
    "--> Provides time-series functionality.\n",
    "\n",
    "--> Powerful group by functionality for performing split-apply-combine operations on data sets."
   ]
  },
  {
   "cell_type": "markdown",
   "metadata": {},
   "source": [
    "                                                         Why Pandas is used for Data Science\n",
    "                                                         \n",
    "--> Pandas is generally used for data science but have you wondered why? \n",
    "\n",
    "--> This is because pandas is used in conjunction with other libraries that are used for data science.\n",
    "\n",
    "--> It is built on the top of the NumPy library which means that a lot of structures of NumPy are used or replicated in Pandas. \n",
    "\n",
    "--> The data produced by Pandas is often used as input for plotting functions of $Matplotlib$, statistical analysis in $SciPy$, machine learning algorithm in $Scikit-learn$.\n",
    "\n",
    "--> Pandas program can be run from any text editor but it is recommended to use Jupyter Notebook for this as Jupyter given the ability to execute code in a particular cell rather than executing the entire file.\n",
    "\n",
    "--> Jupyter also provides an easy way to visualize pandas dataframe and plots."
   ]
  },
  {
   "cell_type": "markdown",
   "metadata": {},
   "source": [
    "                                                                   Getting Started\n",
    "                                           \n",
    "--> After the pandas has been installed into the system, you need to import the library. \n",
    "\n",
    "--> This module is generally imported as:–\n",
    "\n",
    "                           import pandas as pd\n",
    "                           \n",
    "--> Pandas generally provide two data structure for manipulating data, They are:\n",
    "\n",
    "        1. Series\n",
    "         \n",
    "        2. DataFrame                           "
   ]
  },
  {
   "cell_type": "markdown",
   "metadata": {},
   "source": [
    "## 1.Pandas Series"
   ]
  },
  {
   "cell_type": "markdown",
   "metadata": {},
   "source": [
    "--> Pandas Series is a one-dimensional labeled array capable of holding data of any type (integer, string, float, python objects, etc.). \n",
    "\n",
    "--> The axis labels are collectively called index. Pandas Series is nothing but a column in an excel sheet.\n",
    "\n",
    "--> Labels need not be unique but must be a hashable type. \n",
    "\n",
    "--> The object supports both integer and label-based indexing and provides a host of methods for performing operations involving the index."
   ]
  },
  {
   "cell_type": "markdown",
   "metadata": {},
   "source": [
    "                                                        Creating a Pandas Series\n",
    "                                                        \n",
    "                                                        \n",
    "--> In the real world, a Pandas Series will be created by loading the datasets from existing storage, storage can be SQL Database, CSV file, and Excel file. \n",
    "\n",
    "Pandas Series can be created from the lists, dictionary, and from a scalar value etc. \n",
    "\n",
    "Series can be created in different ways, here are some ways by which we create a series: \n",
    "\n",
    "                Creating a series from array: \n",
    "\n",
    "--> In order to create a series from array, we have to import a numpy module and have to use array() function."
   ]
  },
  {
   "cell_type": "code",
   "execution_count": null,
   "metadata": {},
   "outputs": [],
   "source": [
    "# importing pandas library\n",
    "import pandas as pd\n",
    "\n",
    "#creating pandas empty series\n",
    "series=pd.Series()\n",
    "print('Empty series :',series)\n",
    "\n",
    "# importing numpy Library\n",
    "import numpy as np\n",
    " \n",
    "# simple array\n",
    "data = np.array(['p','a','n','d','a','s'])\n",
    " \n",
    "ser = pd.Series(data)\n",
    "print('Pandas 1st series\\n',ser)"
   ]
  },
  {
   "cell_type": "markdown",
   "metadata": {},
   "source": [
    "              Creating a series from array with index :-\n",
    "              \n",
    "--> In order to create a series from array with index, we have to provide index with same number of element as it is in array."
   ]
  },
  {
   "cell_type": "code",
   "execution_count": null,
   "metadata": {},
   "outputs": [],
   "source": [
    "# simple array\n",
    "data = np.array(['A','m','i','y','a'])\n",
    "  \n",
    "# providing an index\n",
    "series = pd.Series(data, index =[10, 11, 43, 13,56])\n",
    "print(series)"
   ]
  },
  {
   "cell_type": "markdown",
   "metadata": {},
   "source": [
    "            Creating a Pandas Series from Lists:-\n",
    "            \n",
    "            \n",
    "--> In order to create a series from list, we have to first create a list after that we can create a series from list.\n",
    "\n",
    "    Method #1 :-\n",
    "\n",
    "--> Using Series() method without any argument."
   ]
  },
  {
   "cell_type": "code",
   "execution_count": null,
   "metadata": {},
   "outputs": [],
   "source": [
    " # create Pandas Series with default index values\n",
    "# default index ranges is from 0 to len(list) - 1\n",
    "x = pd.Series(['Ankit','Arka','Ayas','Lala'])\n",
    "  \n",
    "# print the Series\n",
    "print(x)"
   ]
  },
  {
   "cell_type": "markdown",
   "metadata": {},
   "source": [
    " \n",
    "    Method #2 :-\n",
    "\n",
    "--> Using Series() method with 'index' argument."
   ]
  },
  {
   "cell_type": "code",
   "execution_count": null,
   "metadata": {},
   "outputs": [],
   "source": [
    "#create Pandas Series with define indexes\n",
    "x = pd.Series([10, 20, 30, 40, 50], index =['a', 'b', 'c', 'd', 'e'])\n",
    "  \n",
    "# print the Series\n",
    "print(x)"
   ]
  },
  {
   "cell_type": "code",
   "execution_count": null,
   "metadata": {},
   "outputs": [],
   "source": [
    "#Anaother Example\n",
    "\n",
    "ind = [28, 17,21,57,59]\n",
    "  \n",
    "lst = ['Lala','Ankit','Arka','Dipanshu','Ganesh']\n",
    "              \n",
    "# create Pandas Series with define indexes\n",
    "x = pd.Series(lst, index = ind)\n",
    "  \n",
    "# print the Series\n",
    "print(x)"
   ]
  },
  {
   "cell_type": "markdown",
   "metadata": {},
   "source": [
    "    Method #3:-\n",
    "    \n",
    "--> Using Series() method with multi-list"
   ]
  },
  {
   "cell_type": "code",
   "execution_count": null,
   "metadata": {},
   "outputs": [],
   "source": [
    "  \n",
    "# multi-list\n",
    "list = [ ['Trident'], ['CV Raman'], ['Silicon'], ['ITER'],\n",
    "         ['KIIT'], ['NIT'], ['IIT'], ['GIET'] ]\n",
    "           \n",
    "# create Pandas Series\n",
    "df = pd.Series((i[0] for i in list))\n",
    "  \n",
    "print(df)"
   ]
  },
  {
   "cell_type": "markdown",
   "metadata": {},
   "source": [
    "                              Creating a series from Dictionary:-\n",
    "\n",
    "--> In order to create a series from dictionary, we have to first create a dictionary after that we can make a series using dictionary. \n",
    "\n",
    "--> Dictionary key are used to construct a index."
   ]
  },
  {
   "cell_type": "markdown",
   "metadata": {},
   "source": [
    "     Using Series() method without index parameter:-\n",
    "     \n",
    "--> In this case, dictionary keys are taken in a sorted order to construct index.\n",
    "\n",
    "    Code #1 :-\n",
    "\n",
    "--> Dictionary keys are given in sorted order."
   ]
  },
  {
   "cell_type": "code",
   "execution_count": null,
   "metadata": {},
   "outputs": [],
   "source": [
    "# create a dictionary\n",
    "dictionary = {'A' : 10, 'D' : 20, 'C' : 30,'B':50}\n",
    "  \n",
    "# create a series\n",
    "series = pd.Series(dictionary)\n",
    "  \n",
    "print(series)"
   ]
  },
  {
   "cell_type": "markdown",
   "metadata": {},
   "source": [
    "    Code #2 :-\n",
    "\n",
    "--> Dictionary keys are given in unsorted order."
   ]
  },
  {
   "cell_type": "code",
   "execution_count": null,
   "metadata": {},
   "outputs": [],
   "source": [
    "# create a dictionary\n",
    "dictionary = {'D' : 10, 'B' : 20, 'C' : 30}\n",
    "  \n",
    "# create a series\n",
    "series = pd.Series(dictionary)\n",
    "  \n",
    "print(series)"
   ]
  },
  {
   "cell_type": "markdown",
   "metadata": {},
   "source": [
    "                   Using Series() method with index parameter:-\n",
    "                   \n",
    "--> In this case, the values in data corresponding to the labels in the index will be assigned.\n",
    "\n",
    "     Code #1 : -\n",
    "\n",
    "--> Index list is passed of same length as the number of keys present in dictionary."
   ]
  },
  {
   "cell_type": "code",
   "execution_count": null,
   "metadata": {},
   "outputs": [],
   "source": [
    "# create a dictionary\n",
    "dictionary = {'A' : 50, 'B' : 10, 'C' : 80}\n",
    "  \n",
    "# create a series\n",
    "series = pd.Series(dictionary, index =['B', 'C', 'A'])\n",
    "  \n",
    "print(series)"
   ]
  },
  {
   "cell_type": "markdown",
   "metadata": {},
   "source": [
    "      Code #2 :-\n",
    "\n",
    "--> Index list is passed of greater length than the number of keys present in dictionary in this case, Index order is persisted and the missing element is filled with NaN (Not a Number)."
   ]
  },
  {
   "cell_type": "code",
   "execution_count": null,
   "metadata": {},
   "outputs": [],
   "source": [
    "  \n",
    "# create a dictionary\n",
    "dictionary = {'A' : 50, 'B' : 10, 'C' : 80}\n",
    "  \n",
    "# create a series\n",
    "series = pd.Series(dictionary, index =['B', 'C', 'D', 'A'])\n",
    "  \n",
    "print(series)"
   ]
  },
  {
   "cell_type": "markdown",
   "metadata": {},
   "source": [
    "                                  Creating a series from Scalar value:-\n",
    "\n",
    "--> In order to create a series from scalar value, an index must be provided. \n",
    "\n",
    "--> The scalar value will be repeated to match the length of index."
   ]
  },
  {
   "cell_type": "code",
   "execution_count": null,
   "metadata": {},
   "outputs": [],
   "source": [
    "# giving a scalar value with index\n",
    "ser = pd.Series(10, index =[0, 1, 2, 3, 4, 5])\n",
    "  \n",
    "print(ser)"
   ]
  },
  {
   "cell_type": "markdown",
   "metadata": {},
   "source": [
    "                                    Creating a series using NumPy functions :-\n",
    "                                    \n",
    "                                    \n",
    "In order to create a series using numpy function, we can use different function of numpy like \n",
    "\n",
    "$numpy.linspace()$,\n",
    "\n",
    "$numpy.random.radn().$\n",
    "\n",
    "     Code #1:-\n",
    "\n",
    "--> Using $numpy.linspace()$"
   ]
  },
  {
   "cell_type": "code",
   "execution_count": null,
   "metadata": {},
   "outputs": [],
   "source": [
    "# series with numpy linspace() \n",
    "ser1 = pd.Series(np.linspace(3, 33, 3))\n",
    "print(ser1)\n",
    "  \n",
    "# series with numpy linspace()\n",
    "ser2 = pd.Series(np.linspace(1, 100, 7))\n",
    "print(\"\\n\", ser2)\n",
    "  "
   ]
  },
  {
   "cell_type": "markdown",
   "metadata": {},
   "source": [
    "      Code #2:-\n",
    "\n",
    "--> Using $np.random.normal()$ and $random.rand() method.$\n",
    "\n"
   ]
  },
  {
   "cell_type": "code",
   "execution_count": null,
   "metadata": {},
   "outputs": [],
   "source": [
    "# series with numpy random.normal\n",
    "ser3 = pd.Series(np.random.normal())\n",
    "print(ser3)\n",
    "  \n",
    "# series with numpy random.normal\n",
    "ser4 = pd.Series(np.random.normal(0.0, 1.0, 5))\n",
    "print(\"\\n\", ser4)\n",
    "  \n",
    "# series with numpy random.rand\n",
    "ser5 = pd.Series(np.random.rand(10))\n",
    "print(\"\\n\", ser5)"
   ]
  },
  {
   "cell_type": "markdown",
   "metadata": {},
   "source": [
    "     Code #3:-\n",
    "\n",
    "--> Using $numpy.repeat()$"
   ]
  },
  {
   "cell_type": "code",
   "execution_count": null,
   "metadata": {},
   "outputs": [],
   "source": [
    "# series with numpy random.repeat\n",
    "ser = pd.Series(np.repeat(0.08, 7))\n",
    "print(\"\\n\", ser)"
   ]
  },
  {
   "cell_type": "markdown",
   "metadata": {},
   "source": [
    "                                                          Accessing element of Series\n",
    "                                                          "
   ]
  },
  {
   "cell_type": "markdown",
   "metadata": {},
   "source": [
    "\n",
    "--> There are two ways through which we can access element of series, they are :\n",
    "\n",
    "                 Accessing Element from Series with Position\n",
    "                 \n",
    "                 Accessing Element Using Label (index)\n",
    "                 \n",
    "                 \n",
    "$Accessing$  $Element$  $from$  $Series$  $with$  $Position$  $:-$\n",
    "\n",
    "--> In order to access the series element refers to the index number. Use the index operator [ ] to access an element in a series.\n",
    "\n",
    "--> The index must be an integer. In order to access multiple elements from a series, we use Slice operation.\n",
    "\n",
    "--> In order to access multiple elements from a series, we use Slice operation.\n",
    "\n",
    "--> Slice operation is performed on Series with the use of the colon(:). \n",
    "\n",
    "--> To print elements from beginning to a range use $[:Index]$, to print elements from end-use $[:-Index]$, to print elements from specific Index till the end use $[Index:]$, to print elements within a range, use $[Start Index:End Index]$ and to print whole Series with the use of slicing operation, use$ [:]$. Further, to print the whole Series in reverse order, use $[::-1]$.\n",
    " \n",
    "     Code #1:-\n",
    "     \n",
    "--> Accessing a first element of series"
   ]
  },
  {
   "cell_type": "code",
   "execution_count": null,
   "metadata": {},
   "outputs": [],
   "source": [
    "# creating simple array\n",
    "data = np.array(['p','a','n','d','a','s','l','i','b','r','a','r','y'])\n",
    "ser = pd.Series(data)\n",
    "  \n",
    "  \n",
    "#retrieve the first element\n",
    "print(ser[:5])\n",
    "\n",
    "# retrieve the first element\n",
    "print(ser[0])\n",
    "\n",
    "#Accessing last 10 elements of Series\n",
    "print(ser[-10:])"
   ]
  },
  {
   "cell_type": "markdown",
   "metadata": {},
   "source": [
    "    code2:-\n",
    "    \n",
    "--> Accessing first 5 elements of Series in $pd1.csv$ file"
   ]
  },
  {
   "cell_type": "code",
   "execution_count": null,
   "metadata": {},
   "outputs": [],
   "source": [
    "# making data frame  \n",
    "df = pd.read_csv(r\"C:\\Users\\ASUS\\Documents\\Jupyter lab Practice\\pd1.csv\")  \n",
    "    \n",
    "ser = pd.Series(df['Name']) \n",
    "ser.head(10) \n",
    "ser[:5]"
   ]
  },
  {
   "cell_type": "markdown",
   "metadata": {},
   "source": [
    "$Accessing$  $Element$  $Using$  $Label$  $(index)$ $:-$"
   ]
  },
  {
   "cell_type": "markdown",
   "metadata": {},
   "source": [
    "--> In order to access an element from series, we have to set values by index label.\n",
    "\n",
    "--> A Series is like a fixed-size dictionary in that you can get and set values by index label.\n",
    "\n",
    "     Code #1:-\n",
    "     \n",
    "--> Accessing a single element using index label"
   ]
  },
  {
   "cell_type": "code",
   "execution_count": null,
   "metadata": {},
   "outputs": [],
   "source": [
    "data = np.array(['p','a','n','d','a','s','l','i','b','r','a','r','y'])\n",
    "ser = pd.Series(data, index =[10, 11, 12, 13, 14, 15, 16, 17, 18, 19, 20, 21, 22])\n",
    "   \n",
    "   \n",
    "# accessing a element using index element\n",
    "print(ser[16])"
   ]
  },
  {
   "cell_type": "markdown",
   "metadata": {},
   "source": [
    " \n",
    "     Code #2:-\n",
    "     \n",
    "--> Accessing a multiple element using index label"
   ]
  },
  {
   "cell_type": "code",
   "execution_count": null,
   "metadata": {},
   "outputs": [],
   "source": [
    "# accessing a multiple element using \n",
    "# index element\n",
    "print(ser[[10, 11, 12, 20, 14]])"
   ]
  },
  {
   "cell_type": "code",
   "execution_count": null,
   "metadata": {},
   "outputs": [],
   "source": [
    "    \n",
    "ser = pd.Series(np.arange(3, 9), index =['a', 'b', 'c', 'd', 'e', 'f']) \n",
    "    \n",
    "print(ser[['a', 'd']])"
   ]
  },
  {
   "cell_type": "markdown",
   "metadata": {},
   "source": [
    "     Code #3:-\n",
    "     \n",
    "--> Accessing a multiple element using index label in nba.csv file"
   ]
  },
  {
   "cell_type": "code",
   "execution_count": null,
   "metadata": {},
   "outputs": [],
   "source": [
    "# making data frame  \n",
    "df = pd.read_csv(r\"C:\\Users\\ASUS\\Documents\\Jupyter lab Practice\\pd1.csv\")  \n",
    "    \n",
    "ser = pd.Series(df['Name']) \n",
    "ser.head(10) \n",
    "ser[[0, 3, 6, 9]]"
   ]
  },
  {
   "cell_type": "markdown",
   "metadata": {},
   "source": [
    "                                                        Indexing and Selecting Data in Series"
   ]
  },
  {
   "cell_type": "markdown",
   "metadata": {},
   "source": [
    "--> Indexing in pandas means simply selecting particular data from a Series. \n",
    "\n",
    "--> Indexing could mean selecting all the data, some of the data from particular columns. \n",
    "\n",
    "--> Indexing can also be known as Subset Selection.\n",
    "\n",
    "    Indexing a Series using indexing operator [] :\n",
    "    \n",
    "--> Indexing operator is used to refer to the square brackets following an object. \n",
    "\n",
    "--> The $.loc$ and $.iloc$ indexers also use the indexing operator to make selections.\n",
    "\n",
    "--> In this indexing operator to refer to df[ ].\n",
    "\n"
   ]
  },
  {
   "cell_type": "markdown",
   "metadata": {},
   "source": [
    "$Indexing$  $a$  $Series$  $using$  $.loc[ ]$  $:-$\n",
    "\n",
    "This function selects data by refering the explicit index .\n",
    "\n",
    "The $df.loc$  indexer selects data in a different way than just the indexing operator. It can select subsets of data."
   ]
  },
  {
   "cell_type": "markdown",
   "metadata": {},
   "source": [
    "           Syntax:- pandas.DataFrame.loc[]\n",
    "           \n",
    "           Parameters:-\n",
    "           \n",
    "$Index$ $label$ $:-$ String or list of string of index label of rows\n",
    "\n",
    "$Return$  $type$  $:-$ Data frame or Series depending on parameters"
   ]
  },
  {
   "cell_type": "markdown",
   "metadata": {},
   "source": [
    "     Example #1: Extracting single Row\n",
    "\n",
    "--> In this example, Name column is made as the index column and then two single rows are extracted one by one in the form of series using index label of rows."
   ]
  },
  {
   "cell_type": "code",
   "execution_count": null,
   "metadata": {},
   "outputs": [],
   "source": [
    "  \n",
    "# making data frame from csv file\n",
    "data = pd.read_csv(r\"C:\\Users\\ASUS\\Documents\\Jupyter lab Practice\\pd1.csv\", index_col =\"Name\")\n",
    "  \n",
    "# retrieving row by loc method\n",
    "first = data.loc[\"Amitab\"]\n",
    "second = data.loc[\"Ayusman\"]\n",
    "  \n",
    "  \n",
    "print(first, \"\\n\\n\\n\", second)"
   ]
  },
  {
   "cell_type": "markdown",
   "metadata": {},
   "source": [
    "      Example #2: Multiple parameters\n",
    "\n",
    "In this example, Name column is made as the index column and then two single rows are extracted at the same time by passing a list as parameter."
   ]
  },
  {
   "cell_type": "code",
   "execution_count": null,
   "metadata": {},
   "outputs": [],
   "source": [
    "# retrieving rows by loc method\n",
    "rows = data.loc[[ \"Dipanshu\",\"Arkasarathi\"]] \n",
    "# checking data type of rows\n",
    "print(type(rows))\n",
    "  \n",
    "# display\n",
    "rows"
   ]
  },
  {
   "cell_type": "markdown",
   "metadata": {},
   "source": [
    "       Example #3: Extracting multiple rows with same index\n",
    "\n",
    "In this example, Team name is made as the index column and one team name is passed to $.loc$ method to check if all values with same team name have been returned or not."
   ]
  },
  {
   "cell_type": "code",
   "execution_count": null,
   "metadata": {},
   "outputs": [],
   "source": [
    "df"
   ]
  },
  {
   "cell_type": "code",
   "execution_count": null,
   "metadata": {},
   "outputs": [],
   "source": [
    "# making data frame from csv file\n",
    "data = pd.read_csv(r\"C:\\Users\\ASUS\\Documents\\Jupyter lab Practice\\pd1.csv\", index_col =\"Branch\")\n",
    "  \n",
    "# retrieving rows by loc method\n",
    "rows = data.loc[\"CSE\"]\n",
    "  \n",
    "# checking data type of rows\n",
    "print(type(rows))\n",
    "  \n",
    "# display\n",
    "rows"
   ]
  },
  {
   "cell_type": "markdown",
   "metadata": {},
   "source": [
    "      Example #4: Extracting rows between two index labels\n",
    "\n",
    "In this example, two index label of rows are passed and all the rows that fall between those two index label have been returned (Both index labels Inclusive)."
   ]
  },
  {
   "cell_type": "code",
   "execution_count": null,
   "metadata": {},
   "outputs": [],
   "source": [
    "  \n",
    "# making data frame from csv file\n",
    "data = pd.read_csv(r\"C:\\Users\\ASUS\\Documents\\Jupyter lab Practice\\pd1.csv\", index_col =\"Name\")\n",
    "rows = data.loc[\"Ankit\":\"Amitab\"]\n",
    "  \n",
    "# checking data type of rows\n",
    "print(type(rows))\n",
    "  \n",
    "# display\n",
    "rows  "
   ]
  },
  {
   "cell_type": "markdown",
   "metadata": {},
   "source": [
    "$Indexing$ $a$ $Series$ $using$ $.iloc[ ]$ $:-$"
   ]
  },
  {
   "cell_type": "markdown",
   "metadata": {},
   "source": [
    "T--> his function allows us to retrieve data by position. \n",
    "\n",
    "--> In order to do that, we’ll need to specify the positions of the data that we want.\n",
    "\n",
    "--> The $df.iloc$ indexer is very similar to df.loc but only uses integer locations to make its selections."
   ]
  },
  {
   "cell_type": "markdown",
   "metadata": {},
   "source": [
    "     Syntax: pandas.DataFrame.iloc[]\n",
    "\n",
    "    Parameters:\n",
    "    \n",
    "$Index$ $Position$ $:-$ Index position of rows in integer or list of integer.\n",
    "\n",
    "$Return$  $type$ $:-$ Data frame or Series depending on parameters"
   ]
  },
  {
   "cell_type": "markdown",
   "metadata": {},
   "source": [
    "Example #1: Extracting single row and comparing with .loc[]\n",
    "\n",
    "In this example, same index number row is extracted by both $.iloc[]$ and $.loc[]$ method and compared. \n",
    "\n",
    "Since the index column by default is numeric, hence the index label will also be integers."
   ]
  },
  {
   "cell_type": "code",
   "execution_count": null,
   "metadata": {},
   "outputs": [],
   "source": [
    "data = pd.read_csv(r\"C:\\Users\\ASUS\\Documents\\Jupyter lab Practice\\pd1.csv\" ) \n",
    "# retrieving rows by loc method \n",
    "row1 = data.loc[3]\n",
    "  \n",
    "# retrieving rows by iloc method\n",
    "row2 = data.iloc[3]\n",
    "  \n",
    "# checking if values are equal\n",
    "row1 == row2"
   ]
  },
  {
   "cell_type": "markdown",
   "metadata": {},
   "source": [
    "      Example #2: Extracting multiple rows with index\n",
    "\n",
    "In this example, multiple rows are extracted first by passing a list and then by passing integers to extract rows between that range.\n",
    "\n",
    "After that, both the values are compared."
   ]
  },
  {
   "cell_type": "code",
   "execution_count": null,
   "metadata": {},
   "outputs": [],
   "source": [
    "# retrieving rows by loc method \n",
    "row1 = data.iloc[[4, 5, 6, 7]]\n",
    "  \n",
    "# retrieving rows by loc method \n",
    "row2 = data.iloc[4:8]\n",
    "  \n",
    "# comparing values\n",
    "row1 == row2"
   ]
  },
  {
   "cell_type": "markdown",
   "metadata": {},
   "source": [
    "     Difference between \n",
    "$loc[]$ and $.iloc[]$ :-\n",
    "\n",
    "--> loc() is label based data selecting method which means that we have to pass the name of the row or column which we want to select. \n",
    "\n",
    "--> This method includes the last element of the range passed in it, unlike iloc().\n",
    "\n",
    "--> loc() can accept the boolean data unlike iloc() .\n"
   ]
  },
  {
   "cell_type": "markdown",
   "metadata": {},
   "source": [
    "                                                          Binary Operation on Series\n",
    "                                                          \n",
    "--> We can perform binary operation on series like addition, subtraction and many other operation. \n",
    "\n",
    "--> In order to perform binary operation on series we have to use some function like $.add()$, $.sub()$ etc.."
   ]
  },
  {
   "cell_type": "code",
   "execution_count": null,
   "metadata": {},
   "outputs": [],
   "source": [
    "# creating a series\n",
    "data = pd.Series([5, 2, 3,7], index=['a', 'b', 'c', 'd'])\n",
    " \n",
    "# creating a series\n",
    "data1 = pd.Series([1, 6, 4, 9], index=['a', 'b', 'd', 'e'])\n",
    " \n",
    "print(data, \"\\n\\n\", data1)\n",
    "\n",
    "#Now we add two series using .add() function.\n",
    "\n",
    "# adding two series using\n",
    "# .add\n",
    "print(data.add(data1, fill_value=0))\n",
    "\n",
    "#Now we subtract two series using .sub function.\n",
    "\n",
    "# subtracting two series using\n",
    "# .sub\n",
    "print(data.sub(data1, fill_value=0))"
   ]
  },
  {
   "cell_type": "markdown",
   "metadata": {},
   "source": [
    "                                               Binary operation methods on series:\n",
    "\n",
    "        FUNCTION                                   DESCRIPTION\n",
    "add()-------------------------------------------Method is used to add series or list like objects with same length to the caller series\n",
    "\n",
    "sub()------------------------------------------Method is used to subtract series or list like objects with same length from the caller series\n",
    "\n",
    "mul()----------------------------------------------Method is used to multiply series or list like objects with same length with the caller series\n",
    "\n",
    "div()--------------------------------------------Method is used to divide series or list like objects with same length by the caller series\n",
    "\n",
    "sum()---------------------------------------------Returns the sum of the values for the requested axis\n",
    "\n",
    "prod()-----------------------------------------Returns the product of the values for the requested axis\n",
    "\n",
    "mean()-----------------------------------------Returns the mean of the values for the requested axis\n",
    "\n",
    "pow()---------------------------------------Method is used to put each element of passed series as exponential power of caller series and returned the results\n",
    "\n",
    "abs()--------------------------------------Method is used to get the absolute numeric value of each element in Series/DataFrame\n",
    "\n",
    "cov()--------------------------------------Method is used to find covariance of two series"
   ]
  },
  {
   "cell_type": "markdown",
   "metadata": {},
   "source": [
    "                                                      Conversion Operation on Series\n",
    "                                                     \n",
    "--> In conversion operation we perform various operation like changing datatype of series, changing a series to list etc.\n",
    "\n",
    "--> In order to perform conversion operation we have various function which help in conversion like $.astype()$, $.tolist()$ etc."
   ]
  },
  {
   "cell_type": "code",
   "execution_count": null,
   "metadata": {},
   "outputs": [],
   "source": [
    "# Python program using astype\n",
    "# to convert a datatype of series\n",
    " \n",
    "# importing pandas module  \n",
    "import pandas as pd \n",
    "   \n",
    "# reading csv file from url  \n",
    "data = pd.read_csv(r\"C:\\Users\\ASUS\\Documents\\Jupyter lab Practice\\pd1.csv\" ) \n",
    "    \n",
    "# dropping null value columns to avoid errors \n",
    "data.dropna(inplace = True) \n",
    "   \n",
    "# storing dtype before converting \n",
    "before = data.dtypes \n",
    "   \n",
    "# converting dtypes using astype \n",
    "data[\"Roll No\"]= data[\"Roll No\"].astype(int) \n",
    "data[\"Regd.No\"]= data[\"Regd.No\"].astype(str) \n",
    "   \n",
    "# storing dtype after converting \n",
    "after = data.dtypes \n",
    "   \n",
    "# printing to compare \n",
    "print(\"BEFORE CONVERSION\\n\", before, \"\\n\") \n",
    "print(\"AFTER CONVERSION\\n\", after, \"\\n\") \n"
   ]
  },
  {
   "cell_type": "code",
   "execution_count": 43,
   "metadata": {},
   "outputs": [
    {
     "name": "stdout",
     "output_type": "stream",
     "text": [
      "Data type before converting = <class 'pandas.core.series.Series'>\n",
      "Data type after converting = <class 'list'>\n"
     ]
    },
    {
     "data": {
      "text/plain": [
       "[17,\n",
       " 38,\n",
       " 28,\n",
       " 45,\n",
       " 34,\n",
       " 29,\n",
       " 57,\n",
       " 39,\n",
       " 31,\n",
       " 55,\n",
       " 21,\n",
       " 22,\n",
       " 42,\n",
       " 54,\n",
       " 15,\n",
       " 13,\n",
       " 11,\n",
       " 75,\n",
       " 59,\n",
       " 67,\n",
       " 30]"
      ]
     },
     "execution_count": 43,
     "metadata": {},
     "output_type": "execute_result"
    }
   ],
   "source": [
    "     \n",
    "# removing null values to avoid errors  \n",
    "data.dropna(inplace = True)  \n",
    "   \n",
    "# storing dtype before operation \n",
    "dtype_before = type(data[\"Roll No\"]) \n",
    "   \n",
    "# converting to list \n",
    "salary_list = data[\"Roll No\"].tolist() \n",
    "   \n",
    "# storing dtype after operation \n",
    "dtype_after = type(salary_list) \n",
    "   \n",
    "# printing dtype \n",
    "print(\"Data type before converting = {}\\nData type after converting = {}\"\n",
    "      .format(dtype_before, dtype_after)) \n",
    "   \n",
    "# displaying list \n",
    "salary_list "
   ]
  },
  {
   "cell_type": "markdown",
   "metadata": {},
   "source": [
    " \n",
    "                                                          Pandas series method:\n",
    " \n",
    "     FUNCTION                          DESCRIPTION\n",
    "     \n",
    "Series()-------------------------------A pandas Series can be created with the Series() constructor method. This constructor method accepts a variety of inputs\n",
    "\n",
    "combine_first()-----------------------Method is used to combine two series into one\n",
    "\n",
    "count()--------------------------------Returns number of non-NA/null observations in the Series\n",
    "\n",
    "size()------------------------------Returns the number of elements in the underlying data\n",
    "\n",
    "name()------------------------------Method allows to give a name to a Series object, i.e. to the column\n",
    "\n",
    "is_unique()--------------------------Method returns boolean if values in the object are unique\n",
    "\n",
    "idxmax()-----------------------------Method to extract the index positions of the highest values in a Series\n",
    "\n",
    "idxmin()-------------------------------Method to extract the index positions of the lowest values in a Series\n",
    "\n",
    "sort_values()--------------------------Method is called on a Series to sort the values in ascending or descending order\n",
    "\n",
    "sort_index()---------------------------Method is called on a pandas Series to sort it by the index instead of its values\n",
    "\n",
    "head()----------------------------------Method is used to return a specified number of rows from the beginning of a Series. The method returns a brand new Series\n",
    "\n",
    "tail()-------------------------------------Method is used to return a specified number of rows from the end of a Series. The method returns a brand new Series\n",
    "\n",
    "le()-----------------------------------Used to compare every element of Caller series with passed series.It returns True for every element which is Less than or Equal to the element in passed series\n",
    "\n",
    "ne()-----------------------------------Used to compare every element of Caller series with passed series. It returns True for every element which is Not Equal to the element in passed series\n",
    "\n",
    "ge()----------------------------------Used to compare every element of Caller series with passed series. It returns True for every element which is Greater than or Equal to the element in passed series\n",
    "\n",
    "eq()-------------------------------------Used to compare every element of Caller series with passed series. It returns True for every element which is Equal to the element in passed series\n",
    "\n",
    "gt()------------------------------------Used to compare two series and return Boolean value for every respective element\n",
    "\n",
    "lt()------------------------------------Used to compare two series and return Boolean value for every respective element\n",
    "\n",
    "clip()------------------------------------Used to clip value below and above to passed Least and Max value\n",
    "\n",
    "clip_lower()-------------------------------Used to clip values below a passed least value\n",
    "\n",
    "clip_upper()--------------------------------Used to clip values above a passed maximum value\n",
    "\n",
    "astype()-----------------------------------Method is used to change data type of a series\n",
    "\n",
    "tolist()----------------------------------Method is used to convert a series to list\n",
    "\n",
    "get()--------------------------------------Method is called on a Series to extract values from a Series. This is alternative syntax to the traditional bracket syntax\n",
    "\n",
    "unique()-----------------------------------Pandas unique() is used to see the unique values in a particular column\n",
    "\n",
    "nunique()---------------------------------Pandas nunique() is used to get a count of unique values\n",
    "\n",
    "value_counts()-----------------------------Method to count the number of the times each unique value occurs in a Series\n",
    "\n",
    "factorize()------------------------------Method helps to get the numeric representation of an array by identifying distinct values\n",
    "\n",
    "map()------------------------------------Method to tie together the values from one object to another\n",
    "\n",
    "between()---------------------------------Pandas between() method is used on series to check which values lie between first and second argument\n",
    "\n",
    "apply()-----------------------------------Method is called and feeded a Python function as an argument to use the function on every Series value\n",
    ". This method is helpful for executing custom operations that are not included in pandas or numpy\n"
   ]
  },
  {
   "cell_type": "code",
   "execution_count": null,
   "metadata": {},
   "outputs": [],
   "source": []
  },
  {
   "cell_type": "code",
   "execution_count": null,
   "metadata": {},
   "outputs": [],
   "source": []
  },
  {
   "cell_type": "code",
   "execution_count": null,
   "metadata": {},
   "outputs": [],
   "source": []
  },
  {
   "cell_type": "code",
   "execution_count": null,
   "metadata": {},
   "outputs": [],
   "source": []
  }
 ],
 "metadata": {
  "kernelspec": {
   "display_name": "Python 3",
   "language": "python",
   "name": "python3"
  },
  "language_info": {
   "codemirror_mode": {
    "name": "ipython",
    "version": 3
   },
   "file_extension": ".py",
   "mimetype": "text/x-python",
   "name": "python",
   "nbconvert_exporter": "python",
   "pygments_lexer": "ipython3",
   "version": "3.8.5"
  }
 },
 "nbformat": 4,
 "nbformat_minor": 4
}
