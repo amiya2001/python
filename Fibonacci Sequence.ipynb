{
 "cells": [
  {
   "cell_type": "markdown",
   "metadata": {},
   "source": [
    "* 11.$Python$ $Program$ $to$ $Print$ $the$ $Fibonacci$ $sequence$ $:-$\n"
   ]
  },
  {
   "cell_type": "code",
   "execution_count": 1,
   "metadata": {},
   "outputs": [
    {
     "name": "stdin",
     "output_type": "stream",
     "text": [
      "Enter the Number of Terms: 15\n"
     ]
    },
    {
     "name": "stdout",
     "output_type": "stream",
     "text": [
      "0,1,1,2,3,5,8,13,21,34,55,89,144,233,377,"
     ]
    }
   ],
   "source": [
    "term=int(input('Enter the Number of Terms:'))\n",
    "a=0\n",
    "b=1\n",
    "print('{0},{1}'.format(a,b),end=',')\n",
    "i=1\n",
    "for i in range(1,term-1):\n",
    "    fibo=a+b\n",
    "    print(fibo,end=\",\")\n",
    "    a=b\n",
    "    b=fibo\n",
    "   "
   ]
  },
  {
   "cell_type": "code",
   "execution_count": null,
   "metadata": {},
   "outputs": [],
   "source": []
  }
 ],
 "metadata": {
  "kernelspec": {
   "display_name": "Python 3",
   "language": "python",
   "name": "python3"
  },
  "language_info": {
   "codemirror_mode": {
    "name": "ipython",
    "version": 3
   },
   "file_extension": ".py",
   "mimetype": "text/x-python",
   "name": "python",
   "nbconvert_exporter": "python",
   "pygments_lexer": "ipython3",
   "version": "3.8.5"
  }
 },
 "nbformat": 4,
 "nbformat_minor": 4
}
