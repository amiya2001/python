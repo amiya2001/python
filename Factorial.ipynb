{
 "cells": [
  {
   "cell_type": "markdown",
   "metadata": {},
   "source": [
    "* 9.$Python$ $program$ $to$ $find$ $the$ $factorial$ $of$ $a$ $number.$ $:-$\n"
   ]
  },
  {
   "cell_type": "code",
   "execution_count": 2,
   "metadata": {},
   "outputs": [
    {
     "name": "stdin",
     "output_type": "stream",
     "text": [
      "Enter the Number 4\n"
     ]
    },
    {
     "name": "stdout",
     "output_type": "stream",
     "text": [
      "Factorial of 4 is : 24\n"
     ]
    }
   ],
   "source": [
    "num=int(input('Enter the Number'))\n",
    "if num==0:\n",
    "    print( 'Factorial  of 0 is 1')\n",
    "else:    \n",
    "    i=1\n",
    "    fact=1\n",
    "    while(i<=num):\n",
    "        fact=fact*i\n",
    "        i+=1\n",
    "    print('Factorial of {0} is : {1}'.format(num,fact))    "
   ]
  },
  {
   "cell_type": "code",
   "execution_count": null,
   "metadata": {},
   "outputs": [],
   "source": []
  }
 ],
 "metadata": {
  "kernelspec": {
   "display_name": "Python 3",
   "language": "python",
   "name": "python3"
  },
  "language_info": {
   "codemirror_mode": {
    "name": "ipython",
    "version": 3
   },
   "file_extension": ".py",
   "mimetype": "text/x-python",
   "name": "python",
   "nbconvert_exporter": "python",
   "pygments_lexer": "ipython3",
   "version": "3.8.5"
  }
 },
 "nbformat": 4,
 "nbformat_minor": 4
}
