{
 "cells": [
  {
   "cell_type": "markdown",
   "metadata": {},
   "source": [
    "## 4.Python Dictionary\n",
    "\n",
    "=> Dictionary in Python is an unordered collection of data values, used to store data values like a map, which unlike other Data Types that hold only single value as an element, Dictionary holds key:value pair.\n",
    "\n",
    "=> Key value is provided in the dictionary to make it more optimized.\n",
    "\n",
    "          Note:– \n",
    "=> Keys in a dictionary doesn’t allows Polymorphism.\n",
    "\n",
    "                                               ##Creating a Dictionary##\n",
    "                                               \n",
    "=> In Python, a Dictionary can be created by placing sequence of elements within curly {} braces, separated by ‘comma’.\n",
    "\n",
    "=> Dictionary holds a pair of values, one being the Key and the other corresponding pair element being its Key:value.\n",
    "\n",
    "=> Values in a dictionary can be of any datatype and can be duplicated, whereas keys can’t be repeated and must be immutable.\n",
    "\n",
    "         Note:– \n",
    "         \n",
    "=> Dictionary keys are case sensitive, same name but different cases of Key will be treated distinctly.\n",
    "\n",
    "     Ex:-"
   ]
  },
  {
   "cell_type": "code",
   "execution_count": null,
   "metadata": {},
   "outputs": [],
   "source": [
    "# Creating a Dictionary \n",
    "# with Integer Keys\n",
    "Dict = {1: 'Amiya', 2: 'For', 3: 'Python'}\n",
    "print(\"\\nDictionary with the use of Integer Keys: \")\n",
    "print(Dict)\n",
    "  \n",
    "# Creating a Dictionary \n",
    "# with Mixed keys\n",
    "Dict = {'Name': 'Amiya', 1: [1, 2, 3, 4]}\n",
    "print(\"\\nDictionary with the use of Mixed Keys: \")\n",
    "print(Dict)"
   ]
  },
  {
   "cell_type": "markdown",
   "metadata": {},
   "source": [
    "=> Dictionary can also be created by the built-in function dict().\n",
    "\n",
    "=> An empty dictionary can be created by just placing to curly braces{}.\n",
    "\n",
    "     Ex:-"
   ]
  },
  {
   "cell_type": "code",
   "execution_count": null,
   "metadata": {},
   "outputs": [],
   "source": [
    "# Creating an empty Dictionary\n",
    "Dict = {}\n",
    "print(\"Empty Dictionary: \")\n",
    "print(Dict)\n",
    "  \n",
    "# Creating a Dictionary\n",
    "# with dict() method\n",
    "Dict = dict({1: 'Amiya', 2: 'For', 3:'Python'})\n",
    "print(\"\\nDictionary with the use of dict(): \")\n",
    "print(Dict)\n",
    "  \n",
    "# Creating a Dictionary\n",
    "# with each item as a Pair\n",
    "Dict = dict([(1, 'Amiya'), (2, 'Palai')])\n",
    "print(\"\\nDictionary with each item as a pair: \")\n",
    "print(Dict)"
   ]
  },
  {
   "cell_type": "markdown",
   "metadata": {},
   "source": [
    "     Nested Dictionary:-"
   ]
  },
  {
   "cell_type": "code",
   "execution_count": null,
   "metadata": {},
   "outputs": [],
   "source": [
    "# Creating a Nested Dictionary \n",
    "# as shown in the below image\n",
    "Dict = {1: 'Amiya', 2: 'For', \n",
    "        3:{'A' : 'Welcome', 'B' : 'To', 'C' : 'Python'}}\n",
    "  \n",
    "print(Dict) "
   ]
  },
  {
   "cell_type": "markdown",
   "metadata": {},
   "source": [
    "                                                 ##Adding elements to a Dictionary##\n",
    "                                                 \n",
    "                                                 \n",
    "=> In Python Dictionary, Addition of elements can be done in multiple ways.\n",
    "\n",
    "=> One value at a time can be added to a Dictionary by defining value along with the key  e.g. Dict[Key] = ‘Value’.\n",
    "\n",
    "=> Updating an existing value in a Dictionary can be done by using the built-in update() method.\n",
    "\n",
    "=> Nested key values can also be added to an existing Dictionary.\n",
    "\n",
    "             Note:-\n",
    "              \n",
    "=> While adding a value, if the key value already exists, the value gets updated otherwise a new Key with the value is added to the Dictionary."
   ]
  },
  {
   "cell_type": "code",
   "execution_count": null,
   "metadata": {},
   "outputs": [],
   "source": [
    "# Creating an empty Dictionary\n",
    "Dict = {}\n",
    "print(\"Empty Dictionary: \")\n",
    "print(Dict)\n",
    "  \n",
    "# Adding elements one at a time\n",
    "Dict[0] = 'Amiya'\n",
    "Dict[2] = 'Python'\n",
    "Dict[3] = 1\n",
    "print(\"\\nDictionary after adding 3 elements: \")\n",
    "print(Dict)\n",
    "  \n",
    "# Adding set of values \n",
    "# to a single Key\n",
    "Dict['Value_set'] = 2, 3, 4\n",
    "print(\"\\nDictionary after adding 3 elements: \")\n",
    "print(Dict)\n",
    "  \n",
    "# Updating existing Key's Value\n",
    "Dict[2] = 'Welcome'\n",
    "print(\"\\nUpdated key value: \")\n",
    "print(Dict)\n",
    "  \n",
    "# Adding Nested Key value to Dictionary\n",
    "Dict[5] = {'Nested' :{'1' : 'Life', '2' : 'Tutorial'}}\n",
    "print(\"\\nAdding a Nested Key: \")\n",
    "print(Dict)"
   ]
  },
  {
   "cell_type": "markdown",
   "metadata": {},
   "source": [
    "                                                 ##Accessing elements from a Dictionary##\n",
    "                                                 \n",
    "                                                 \n",
    "=> In order to access the items of a dictionary refer to its key name.Key can be used inside square brackets.\n",
    "\n"
   ]
  },
  {
   "cell_type": "code",
   "execution_count": null,
   "metadata": {},
   "outputs": [],
   "source": [
    "# Python program to demonstrate  \n",
    "# accessing a element from a Dictionary \n",
    "  \n",
    "# Creating a Dictionary \n",
    "Dict = {1: 'Python', 'name': 'Tutorial', 3: 'Fresher'}\n",
    "  \n",
    "# accessing a element using key\n",
    "print(\"Accessing a element using key:\")\n",
    "print(Dict['name'])\n",
    "  \n",
    "# accessing a element using key\n",
    "print(\"Accessing a element using key:\")\n",
    "print(Dict[1])"
   ]
  },
  {
   "cell_type": "markdown",
   "metadata": {},
   "source": [
    "=> There is also a method called get() that will also help in acessing the element from a dictionary."
   ]
  },
  {
   "cell_type": "code",
   "execution_count": null,
   "metadata": {},
   "outputs": [],
   "source": [
    "# Creating a Dictionary \n",
    "Dict = {1: 'Python', 'name': 'For', 3: 'Fresher'}\n",
    "  \n",
    "# accessing a element using get()\n",
    "# method\n",
    "print(\"Accessing a element using get:\")\n",
    "print(Dict.get(3))"
   ]
  },
  {
   "cell_type": "markdown",
   "metadata": {},
   "source": [
    "                                                     ##Accessing element of a nested dictionary##\n",
    "\n",
    "=> In order to access the value of any key in nested dictionary, use indexing [] syntax.\n",
    " \n",
    "     Ex:-"
   ]
  },
  {
   "cell_type": "code",
   "execution_count": 7,
   "metadata": {},
   "outputs": [
    {
     "name": "stdout",
     "output_type": "stream",
     "text": [
      "{1: 'Python'}\n",
      "Python\n",
      "For\n"
     ]
    }
   ],
   "source": [
    "# Creating a Dictionary\n",
    "Dict = {'Dict1': {1: 'Python'},\n",
    "        'Dict2': {'Name': 'For'}}\n",
    "  \n",
    "# Accessing element using key\n",
    "print(Dict['Dict1'])\n",
    "print(Dict['Dict1'][1])\n",
    "print(Dict['Dict2']['Name'])"
   ]
  },
  {
   "cell_type": "markdown",
   "metadata": {},
   "source": [
    "                                                      ##Removing Elements from Dictionary##\n",
    "                                                      \n",
    "                                                      \n",
    "             Using del keyword:-\n",
    "                \n",
    "=> In Python Dictionary, deletion of keys can be done by using the del keyword.\n",
    "\n",
    "=> del keyword, specific values from a dictionary as well as whole dictionary can be deleted. \n",
    "\n",
    "=> Items in a Nested dictionary can also be deleted by using del keyword and providing specific nested key and particular key to be deleted from that nested Dictionary.\n",
    "\n",
    "           Note:-\n",
    "=>del Dict will delete the entire dictionary and hence printing it after deletion will raise an Error."
   ]
  },
  {
   "cell_type": "code",
   "execution_count": null,
   "metadata": {},
   "outputs": [],
   "source": [
    "# Initial Dictionary\n",
    "Dict = { 5 : 'Welcome', 6 : 'To', 7 : 'This',\n",
    "        'A' : {1 : 'Tutorial', 2 : 'For', 3 : 'Python'},\n",
    "        'B' : {1 : 'for', 2 : 'Fresher'}}\n",
    "print(\"Initial Dictionary: \")\n",
    "print(Dict)\n",
    "  \n",
    "# Deleting a Key value\n",
    "del Dict[6]\n",
    "print(\"\\nDeleting a specific key: \")\n",
    "print(Dict)\n",
    "  \n",
    "# Deleting a Key from\n",
    "# Nested Dictionary\n",
    "del Dict['A'][2]\n",
    "print(\"\\nDeleting a key from Nested Dictionary: \")\n",
    "print(Dict)"
   ]
  },
  {
   "cell_type": "markdown",
   "metadata": {},
   "source": [
    "              Using pop() method:-\n",
    "              \n",
    "=> Pop() method is used to return and delete the value of the key specified."
   ]
  },
  {
   "cell_type": "code",
   "execution_count": null,
   "metadata": {},
   "outputs": [],
   "source": [
    "# Creating a Dictionary\n",
    "Dict = {1: 'Python', 'name': 'For', 3: 'Fresher'}\n",
    "  \n",
    "# Deleting a key \n",
    "# using pop() method\n",
    "pop_ele = Dict.pop(1)\n",
    "print('\\nDictionary after deletion: ' + str(Dict))\n",
    "print('Value associated to poped key is: ' + str(pop_ele))"
   ]
  },
  {
   "cell_type": "markdown",
   "metadata": {},
   "source": [
    "               Using popitem() method:-\n",
    "               \n",
    "=> The popitem() returns and removes an arbitrary element (key, value) pair from the dictionary."
   ]
  },
  {
   "cell_type": "code",
   "execution_count": null,
   "metadata": {},
   "outputs": [],
   "source": [
    "# Creating Dictionary\n",
    "Dict = {1: 'Python', 'name': 'For', 3: 'Fresher'}\n",
    "  \n",
    "# Deleting an arbitrary key\n",
    "# using popitem() function\n",
    "pop_ele = Dict.popitem()\n",
    "print(\"\\nDictionary after deletion: \" + str(Dict))\n",
    "print(\"The arbitrary pair returned is: \" + str(pop_ele))"
   ]
  },
  {
   "cell_type": "markdown",
   "metadata": {},
   "source": [
    "                Using clear() method:-\n",
    "                \n",
    "=> All the items from a dictionary can be deleted at once by using clear() method."
   ]
  },
  {
   "cell_type": "code",
   "execution_count": null,
   "metadata": {},
   "outputs": [],
   "source": [
    "# Creating a Dictionary\n",
    "Dict = {1: 'Python', 'name': 'For', 3: 'Data Science'}\n",
    "  \n",
    "  \n",
    "# Deleting entire Dictionary\n",
    "Dict.clear()\n",
    "print(\"\\nDeleting Entire Dictionary: \")\n",
    "print(Dict)"
   ]
  },
  {
   "cell_type": "markdown",
   "metadata": {},
   "source": [
    "        Methods                                   Description\n",
    "      \n",
    "           \n",
    "    copy()-----------------------------------They copy() method returns a shallow copy of the dictionary.\n",
    "    \n",
    "    clear()----------------------------------The clear() method removes all items from the dictionary.\n",
    "    \n",
    "    pop()------------------------------------Removes and returns an element from a dictionary having the given key.\n",
    "    \n",
    "    popitem()--------------------------------Removes the arbitrary key-value pair from the dictionary and returns it as tuple.\n",
    "    \n",
    "    get()------------------------------------It is a conventional method to access a value for a key.\n",
    "    \n",
    "    dictionary_name.values()-----------------returns a list of all the values available in a given dictionary.\n",
    "    \n",
    "    str()------------------------------------Produces a printable string representation of a dictionary.\n",
    "    \n",
    "    update()---------------------------------Adds dictionary dict2’s key-values pairs to dict\n",
    "    \n",
    "    setdefault()-----------------------------Set dict[key]=default if key is not already in dict\n",
    "    \n",
    "    keys()-----------------------------------Returns list of dictionary dict’s keys\n",
    "    \n",
    "    items()----------------------------------Returns a list of dict’s (key, value) tuple pairs\n",
    "    \n",
    "    has_key()--------------------------------Returns true if key in dictionary dict, false otherwise\n",
    "    \n",
    "    fromkeys()-------------------------------Create a new dictionary with keys from seq and values set to value.\n",
    "    \n",
    "    type()-----------------------------------Returns the type of the passed variable.\n",
    "    \n",
    "    cmp()------------------------------------Compares elements of both dict.\n",
    "    "
   ]
  },
  {
   "cell_type": "code",
   "execution_count": null,
   "metadata": {},
   "outputs": [],
   "source": []
  }
 ],
 "metadata": {
  "kernelspec": {
   "display_name": "Python 3",
   "language": "python",
   "name": "python3"
  },
  "language_info": {
   "codemirror_mode": {
    "name": "ipython",
    "version": 3
   },
   "file_extension": ".py",
   "mimetype": "text/x-python",
   "name": "python",
   "nbconvert_exporter": "python",
   "pygments_lexer": "ipython3",
   "version": "3.8.5"
  }
 },
 "nbformat": 4,
 "nbformat_minor": 4
}
