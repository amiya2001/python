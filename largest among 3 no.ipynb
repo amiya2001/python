{
 "cells": [
  {
   "cell_type": "markdown",
   "metadata": {},
   "source": [
    "* 6.$Python$ $Program$ $to$ $Find$ $the$ $Largest$ $Among$ $Three$ $Numbers$ $:-$\n"
   ]
  },
  {
   "cell_type": "code",
   "execution_count": 1,
   "metadata": {},
   "outputs": [
    {
     "name": "stdin",
     "output_type": "stream",
     "text": [
      "Enter a The 3 (separeted by Space)Numbers:  12 45 23\n"
     ]
    },
    {
     "name": "stdout",
     "output_type": "stream",
     "text": [
      "45 is the largest Number\n"
     ]
    }
   ],
   "source": [
    "x, y,z = input(\"Enter a The 3 (separeted by Space)Numbers: \").split()\n",
    "if x>y and x>z:\n",
    "    print('{0} is the largest Number'.format(x))\n",
    "elif y>z:\n",
    "    print('{0} is the largest Number'.format(y))\n",
    "else:\n",
    "    print('{0} is the largest Number'.format(z))\n",
    " "
   ]
  },
  {
   "cell_type": "code",
   "execution_count": null,
   "metadata": {},
   "outputs": [],
   "source": []
  }
 ],
 "metadata": {
  "kernelspec": {
   "display_name": "Python 3",
   "language": "python",
   "name": "python3"
  },
  "language_info": {
   "codemirror_mode": {
    "name": "ipython",
    "version": 3
   },
   "file_extension": ".py",
   "mimetype": "text/x-python",
   "name": "python",
   "nbconvert_exporter": "python",
   "pygments_lexer": "ipython3",
   "version": "3.8.5"
  }
 },
 "nbformat": 4,
 "nbformat_minor": 4
}
