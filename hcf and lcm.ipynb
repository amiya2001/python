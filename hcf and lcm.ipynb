{
 "cells": [
  {
   "cell_type": "markdown",
   "metadata": {},
   "source": [
    "* $Python$ $Program$ $to$ $Find$ $HCF$ $or$ $GCD$ $:-$"
   ]
  },
  {
   "cell_type": "code",
   "execution_count": 3,
   "metadata": {},
   "outputs": [
    {
     "name": "stdin",
     "output_type": "stream",
     "text": [
      "Enter the 1st no : 88\n",
      "Enter the 2nd no : 99\n"
     ]
    },
    {
     "name": "stdout",
     "output_type": "stream",
     "text": [
      "The H.C.F. is 11\n"
     ]
    }
   ],
   "source": [
    "num1=int(input('Enter the 1st no :'))\n",
    "num2=int(input('Enter the 2nd no :'))\n",
    "if num1 > num2:\n",
    "    smaller = num2\n",
    "else:\n",
    "    smaller = num1\n",
    "for i in range(1, smaller+1):\n",
    "    if((num1 % i == 0) and (num2 % i == 0)):\n",
    "            hcf = i\n",
    "print(\"The H.C.F. is\", hcf)\n",
    "\n",
    "  "
   ]
  },
  {
   "cell_type": "markdown",
   "metadata": {},
   "source": [
    "* $Write$ $a$ $python$ $function$ $to$ $find$ $HCf$ $or$ $GCD$ $and$ $return$ $the$ $value$ $:-$"
   ]
  },
  {
   "cell_type": "code",
   "execution_count": 4,
   "metadata": {},
   "outputs": [
    {
     "name": "stdin",
     "output_type": "stream",
     "text": [
      "Enter the 1st no : 54\n",
      "Enter the 2nd no : 24\n"
     ]
    },
    {
     "name": "stdout",
     "output_type": "stream",
     "text": [
      "The H.C.F. is 6\n"
     ]
    }
   ],
   "source": [
    "def find_hcf(x,y):\n",
    "    if x > y:\n",
    "        smaller = y\n",
    "    else:\n",
    "        smaller = x\n",
    "    for i in range(1, smaller+1):\n",
    "         if((x % i == 0) and (y % i == 0)):\n",
    "                hcf = i\n",
    "    return hcf\n",
    "num1=int(input('Enter the 1st no :'))\n",
    "num2=int(input('Enter the 2nd no :'))\n",
    "h=find_hcf(num1,num2)\n",
    "\n",
    "print(\"The H.C.F. is\", h)    \n"
   ]
  },
  {
   "cell_type": "code",
   "execution_count": null,
   "metadata": {},
   "outputs": [],
   "source": []
  }
 ],
 "metadata": {
  "kernelspec": {
   "display_name": "Python 3",
   "language": "python",
   "name": "python3"
  },
  "language_info": {
   "codemirror_mode": {
    "name": "ipython",
    "version": 3
   },
   "file_extension": ".py",
   "mimetype": "text/x-python",
   "name": "python",
   "nbconvert_exporter": "python",
   "pygments_lexer": "ipython3",
   "version": "3.8.5"
  }
 },
 "nbformat": 4,
 "nbformat_minor": 4
}
