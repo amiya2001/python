{
 "cells": [
  {
   "cell_type": "markdown",
   "metadata": {},
   "source": [
    "* 5.$Python$ $Program$ $to$ $Check$ $Leap$ $Year$ $:-$\n"
   ]
  },
  {
   "cell_type": "code",
   "execution_count": 4,
   "metadata": {},
   "outputs": [
    {
     "name": "stdin",
     "output_type": "stream",
     "text": [
      "Enter the Year:  2012\n"
     ]
    },
    {
     "name": "stdout",
     "output_type": "stream",
     "text": [
      "It is a Leap  Year:\n"
     ]
    }
   ],
   "source": [
    "y=int(input('Enter the Year: '))\n",
    "if y%4==0:\n",
    "    if y%100==0:\n",
    "        if y%400==0:\n",
    "            print('It is a Leap Year:')\n",
    "        else:    \n",
    "             print('It is Not a Leap Year')\n",
    "    else:\n",
    "        print('It is a Leap  Year:')\n",
    "else:\n",
    "    print('It is Not a Leap Year')"
   ]
  },
  {
   "cell_type": "code",
   "execution_count": null,
   "metadata": {},
   "outputs": [],
   "source": []
  }
 ],
 "metadata": {
  "kernelspec": {
   "display_name": "Python 3",
   "language": "python",
   "name": "python3"
  },
  "language_info": {
   "codemirror_mode": {
    "name": "ipython",
    "version": 3
   },
   "file_extension": ".py",
   "mimetype": "text/x-python",
   "name": "python",
   "nbconvert_exporter": "python",
   "pygments_lexer": "ipython3",
   "version": "3.8.5"
  }
 },
 "nbformat": 4,
 "nbformat_minor": 4
}
