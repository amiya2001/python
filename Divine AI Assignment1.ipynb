{
 "cells": [
  {
   "cell_type": "markdown",
   "metadata": {},
   "source": [
    "* $1.Python$ $Program$ $to$ $Convert$ $Kilometers$ $to$ $Miles$ $:-$"
   ]
  },
  {
   "cell_type": "code",
   "execution_count": 1,
   "metadata": {},
   "outputs": [
    {
     "name": "stdin",
     "output_type": "stream",
     "text": [
      "Enter the Kilometer 123\n"
     ]
    },
    {
     "name": "stdout",
     "output_type": "stream",
     "text": [
      "76.428633 Mile\n"
     ]
    }
   ],
   "source": [
    "k=float(input(\"Enter the Kilometer\"))\n",
    "print (0.621371*k,\"Mile\")"
   ]
  },
  {
   "cell_type": "markdown",
   "metadata": {},
   "source": [
    "* $2.Python$ $Program$ $to$ $Convert$ $Celsius$ $To$ $Fahrenheit$ $:-$\n"
   ]
  },
  {
   "cell_type": "code",
   "execution_count": null,
   "metadata": {},
   "outputs": [],
   "source": [
    "c=float(input(\"Enter the °C\"))\n",
    "print ((c*1.8)+32,\"°F\")"
   ]
  },
  {
   "cell_type": "markdown",
   "metadata": {},
   "source": [
    "* $3.Python$ $Program$ $to$ $Check$ $if$ $a$ $Number$ $is$ $Positive$ , $Negative$ $or$ $0$ $:-$\n"
   ]
  },
  {
   "cell_type": "code",
   "execution_count": null,
   "metadata": {},
   "outputs": [],
   "source": [
    "no=float(input(\"Enter the Number\"))\n",
    "if no>0:\n",
    "    print(\"Positive Number\")\n",
    "elif no<0 :\n",
    "    print(\"Negetive  Number\")\n",
    "else:\n",
    "    print(\"Number is zero\") "
   ]
  },
  {
   "cell_type": "markdown",
   "metadata": {},
   "source": [
    "* 4.$Python$ $Program$ $to$ $Check$ $if$ $a$ $Number$ $is$ $Odd$ $or$ $Even$ $:-$\n"
   ]
  },
  {
   "cell_type": "code",
   "execution_count": null,
   "metadata": {},
   "outputs": [],
   "source": [
    "no=float(input(\"Enter the Number\"))\n",
    "'Even Number' if no%2==0 else 'Odd Number'"
   ]
  },
  {
   "cell_type": "markdown",
   "metadata": {},
   "source": [
    "* 5.$Python$ $Program$ $to$ $Check$ $Leap$ $Year$ $:-$\n"
   ]
  },
  {
   "cell_type": "code",
   "execution_count": null,
   "metadata": {},
   "outputs": [],
   "source": [
    "y=int(input('Enter the Year: '))\n",
    "if y%4==0:\n",
    "    if y%100==0:\n",
    "        if y%400==0:\n",
    "            print('It is a Leap Year:')\n",
    "        else:    \n",
    "             print('It is Not a Leap Year')\n",
    "    else:\n",
    "        print('It is a Leap  Year:')\n",
    "else:\n",
    "    print('It is Not a Leap Year')\n",
    " "
   ]
  },
  {
   "cell_type": "markdown",
   "metadata": {},
   "source": [
    "* 6.$Python$ $Program$ $to$ $Find$ $the$ $Largest$ $Among$ $Three$ $Numbers$ $:-$\n"
   ]
  },
  {
   "cell_type": "code",
   "execution_count": null,
   "metadata": {},
   "outputs": [],
   "source": [
    "x, y,z = input(\"Enter a The 3 (separeted by Space)Numbers: \").split()\n",
    "if x>y and x>z:\n",
    "    print('{0} is the largest Number'.format(x))\n",
    "elif y>z:\n",
    "    print('{0} is the largest Number'.format(y))\n",
    "else:\n",
    "    print('{0} is the largest Number'.format(z))\n",
    " "
   ]
  },
  {
   "cell_type": "markdown",
   "metadata": {},
   "source": [
    "* 7.$Write$ $a$ $Python$ $Program$ $to$ $check$ $if$ $a$ $number$ $is$ $prime$ $or$ $not$ $:-$\n"
   ]
  },
  {
   "cell_type": "code",
   "execution_count": null,
   "metadata": {},
   "outputs": [],
   "source": [
    "n=int(input('Enter the Number'))\n",
    "count=0\n",
    "i=1\n",
    "while(i<=n):\n",
    "    if n%i==0:\n",
    "            count+=1\n",
    "    i+=1\n",
    "\n",
    "'Prime Number' if count==2 else 'Not a Prime Number'    "
   ]
  },
  {
   "cell_type": "markdown",
   "metadata": {},
   "source": [
    "* 8.$Python$ $program$ $to$ $display$ $all$ $the$ $prime$ $numbers$ $within$ $an$ $interval$ $:-$\n"
   ]
  },
  {
   "cell_type": "code",
   "execution_count": null,
   "metadata": {},
   "outputs": [],
   "source": [
    "np=0\n",
    "print('The prime no are')\n",
    "for n in range(2,100): \n",
    "    count=0\n",
    "    i=1\n",
    "    while(i<=n):\n",
    "        if n%i==0:\n",
    "            \n",
    "            count+=1\n",
    "        i+=1\n",
    "    if count==2:\n",
    "        print(n,end=',')\n",
    "        np+=1\n",
    "print('\\n Ther are {0} Prime no in between 0 to 100'.format(np))"
   ]
  },
  {
   "cell_type": "markdown",
   "metadata": {},
   "source": [
    "* 9.$Python$ $program$ $to$ $find$ $the$ $factorial$ $of$ $a$ $number.$ $:-$\n"
   ]
  },
  {
   "cell_type": "code",
   "execution_count": null,
   "metadata": {},
   "outputs": [],
   "source": [
    "num=int(input('Enter the Number'))\n",
    "if num==0:\n",
    "    print( 'Factorial  of 0 is 1')\n",
    "else:    \n",
    "    i=1\n",
    "    fact=1\n",
    "    while(i<=num):\n",
    "        fact=fact*i\n",
    "        i+=1\n",
    "    print('Factorial of {0} is : {1}'.format(num,fact))    "
   ]
  },
  {
   "cell_type": "markdown",
   "metadata": {},
   "source": [
    "* 10.$Python$ $Program$ $to$ $Display$ $the$ $multiplication$ $Table$ $:-$\n"
   ]
  },
  {
   "cell_type": "code",
   "execution_count": null,
   "metadata": {},
   "outputs": [],
   "source": [
    "num2=int(input('Enter the Number'))\n",
    "print('multiplication Table of {0} is:\\n'.format(num2))\n",
    "for i in range(1,11):\n",
    "    mul=num2*i\n",
    "    print('{0} * {1} = {2}'.format(num2,i,mul))\n"
   ]
  },
  {
   "cell_type": "markdown",
   "metadata": {},
   "source": [
    "* 11.$Python$ $Program$ $to$ $Print$ $the$ $Fibonacci$ $sequence$ $:-$\n"
   ]
  },
  {
   "cell_type": "code",
   "execution_count": null,
   "metadata": {},
   "outputs": [],
   "source": [
    "term=int(input('Enter the Number of Terms:'))\n",
    "a=0\n",
    "b=1\n",
    "print('{0},{1}'.format(a,b),end=',')\n",
    "i=1\n",
    "for i in range(1,term-1):\n",
    "    fibo=a+b\n",
    "    print(fibo,end=\",\")\n",
    "    a=b\n",
    "    b=fibo\n",
    "   "
   ]
  },
  {
   "cell_type": "markdown",
   "metadata": {},
   "source": [
    "* 12.$Python$ $Program$ $to$ $Check$ $Armstrong$ $Number$ $(for$ $3$ $digits)$ $:-$"
   ]
  },
  {
   "cell_type": "code",
   "execution_count": 4,
   "metadata": {},
   "outputs": [
    {
     "name": "stdin",
     "output_type": "stream",
     "text": [
      "Enter the Number (max 3 digit):  1634\n"
     ]
    },
    {
     "data": {
      "text/plain": [
       "308"
      ]
     },
     "execution_count": 4,
     "metadata": {},
     "output_type": "execute_result"
    }
   ],
   "source": [
    "amnum=(input('Enter the Number (max 3 digit): '))\n",
    "qub=0\n",
    "for i in range(0,len(amnum)):    \n",
    "    qub+=int(amnum[i])**3    \n",
    "qub\n"
   ]
  },
  {
   "cell_type": "code",
   "execution_count": 8,
   "metadata": {},
   "outputs": [
    {
     "data": {
      "text/plain": [
       "216"
      ]
     },
     "execution_count": 8,
     "metadata": {},
     "output_type": "execute_result"
    }
   ],
   "source": [
    "a=1**3\n",
    "b=6**3\n",
    "c=3**3\n",
    "d=4**3\n"
   ]
  },
  {
   "cell_type": "code",
   "execution_count": 10,
   "metadata": {},
   "outputs": [
    {
     "name": "stdin",
     "output_type": "stream",
     "text": [
      "Enter a number:  992\n"
     ]
    },
    {
     "name": "stdout",
     "output_type": "stream",
     "text": [
      "992 is not an Armstrong number\n"
     ]
    }
   ],
   "source": [
    "# Python program to check if the number is an Armstrong number or not\n",
    "\n",
    "# take input from the user\n",
    "num = int(input(\"Enter a number: \"))\n",
    "\n",
    "# initialize sum\n",
    "sum = 0\n",
    "\n",
    "# find the sum of the cube of each digit\n",
    "temp = num\n",
    "while temp > 0:\n",
    "   digit = temp % 10\n",
    "   sum += digit ** 3\n",
    "   temp //= 10\n",
    "\n",
    "# display the result\n",
    "if num == sum:\n",
    "   print(num,\"is an Armstrong number\")\n",
    "else:\n",
    "   print(num,\"is not an Armstrong number\")\n"
   ]
  },
  {
   "cell_type": "code",
   "execution_count": 11,
   "metadata": {},
   "outputs": [
    {
     "data": {
      "text/plain": [
       "729"
      ]
     },
     "execution_count": 11,
     "metadata": {},
     "output_type": "execute_result"
    }
   ],
   "source": [
    "9**3"
   ]
  },
  {
   "cell_type": "code",
   "execution_count": null,
   "metadata": {},
   "outputs": [],
   "source": []
  }
 ],
 "metadata": {
  "kernelspec": {
   "display_name": "Python 3",
   "language": "python",
   "name": "python3"
  },
  "language_info": {
   "codemirror_mode": {
    "name": "ipython",
    "version": 3
   },
   "file_extension": ".py",
   "mimetype": "text/x-python",
   "name": "python",
   "nbconvert_exporter": "python",
   "pygments_lexer": "ipython3",
   "version": "3.8.5"
  }
 },
 "nbformat": 4,
 "nbformat_minor": 4
}
