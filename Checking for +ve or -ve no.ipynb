{
 "cells": [
  {
   "cell_type": "markdown",
   "metadata": {},
   "source": [
    "* $3.Python$ $Program$ $to$ $Check$ $if$ $a$ $Number$ $is$ $Positive$ , $Negative$ $or$ $0$ $:-$"
   ]
  },
  {
   "cell_type": "code",
   "execution_count": 1,
   "metadata": {},
   "outputs": [
    {
     "name": "stdin",
     "output_type": "stream",
     "text": [
      "Enter the Number 56\n"
     ]
    },
    {
     "name": "stdout",
     "output_type": "stream",
     "text": [
      "Positive Number\n"
     ]
    }
   ],
   "source": [
    "no=float(input(\"Enter the Number\"))\n",
    "if no>0:\n",
    "    print(\"Positive Number\")\n",
    "elif no<0 :\n",
    "    print(\"Negetive  Number\")\n",
    "else:\n",
    "    print(\"Number is zero\") "
   ]
  },
  {
   "cell_type": "code",
   "execution_count": null,
   "metadata": {},
   "outputs": [],
   "source": []
  }
 ],
 "metadata": {
  "kernelspec": {
   "display_name": "Python 3",
   "language": "python",
   "name": "python3"
  },
  "language_info": {
   "codemirror_mode": {
    "name": "ipython",
    "version": 3
   },
   "file_extension": ".py",
   "mimetype": "text/x-python",
   "name": "python",
   "nbconvert_exporter": "python",
   "pygments_lexer": "ipython3",
   "version": "3.8.5"
  }
 },
 "nbformat": 4,
 "nbformat_minor": 4
}
