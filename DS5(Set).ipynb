{
 "cells": [
  {
   "cell_type": "markdown",
   "metadata": {},
   "source": [
    "## 5.Python Sets \n",
    "\n",
    "=> In Python, Set is an unordered collection of data type that is iterable, mutable and has no duplicate elements.\n",
    "\n",
    "=> The order of elements in a set is undefined though it may consist of various elements.\n",
    "\n",
    "=> The major advantage of using a set, as opposed to a list, is that it has a highly optimized method for checking whether a specific element is contained in the set.\n",
    "\n",
    "                                                  ##Creating a Set##\n",
    "                                                  \n",
    "=> Sets can be created by using the built-in set() function with an iterable object or a sequence by placing the sequence inside curly braces, separated by ‘comma’.\n",
    "\n",
    "          Note:– \n",
    "\n",
    "=> A set cannot have mutable elements like a list, set or dictionary, as its elements.  "
   ]
  },
  {
   "cell_type": "code",
   "execution_count": null,
   "metadata": {},
   "outputs": [],
   "source": [
    "# Python program to demonstrate\n",
    "# Creation of Set in Python\n",
    " \n",
    "# Creating a Set\n",
    "set1 = set()\n",
    "print(\"Initial blank Set: \")\n",
    "print(set1)\n",
    " \n",
    "# Creating a Set with\n",
    "# the use of a String\n",
    "set1 = set(\"PythonforDataScience\")\n",
    "print(\"\\nSet with the use of String: \")\n",
    "print(set1)\n",
    " \n",
    "# Creating a Set with\n",
    "# the use of Constructor\n",
    "# (Using object to Store String)\n",
    "String = 'AmiyaPalai'\n",
    "set1 = set(String)\n",
    "print(\"\\nSet with the use of an Object: \" )\n",
    "print(set1)\n",
    " \n",
    "# Creating a Set with\n",
    "# the use of a List\n",
    "set1 = set([\"What\", \"are\", \"you\",\"doing\"])\n",
    "print(\"\\nSet with the use of List: \")\n",
    "print(set1)"
   ]
  },
  {
   "cell_type": "markdown",
   "metadata": {},
   "source": [
    "=> A set contains only unique elements but at the time of set creation, multiple duplicate values can also be passed.\n",
    "\n",
    "=> Order of elements in a set is undefined and is unchangeable. \n",
    "\n",
    "=> Type of elements in a set need not be the same, various mixed up data type values can also be passed to the set. "
   ]
  },
  {
   "cell_type": "code",
   "execution_count": null,
   "metadata": {},
   "outputs": [],
   "source": [
    "# Creating a Set with\n",
    "# a List of Numbers\n",
    "# (Having duplicate values)\n",
    "set1 = set([1, 2, 4, 4, 3, 3, 3, 6, 5])\n",
    "print(\"\\nSet with the use of Numbers: \")\n",
    "print(set1)\n",
    " \n",
    "# Creating a Set with\n",
    "# a mixed type of values\n",
    "# (Having numbers and strings)\n",
    "set1 = set([1, 2, 'Python', 4, 'For', 6, 'DataScience'])\n",
    "print(\"\\nSet with the use of Mixed Values\")\n",
    "print(set1)"
   ]
  },
  {
   "cell_type": "markdown",
   "metadata": {},
   "source": [
    "                                               ##Adding Elements to a Set##\n",
    "                                               \n",
    "                                            \n",
    "                Using add() method:-\n",
    "                \n",
    "=> Elements can be added to the Set by using built-in add() function.\n",
    "\n",
    "=> Only one element at a time can be added to the set by using add() method, loops are used to add multiple elements at a time with the use of add() method.\n",
    "\n",
    "       Note:–\n",
    "\n",
    "=> Lists cannot be added to a set as elements because Lists are not hashable whereas Tuples can be added because tuples are immutable and hence Hashable. "
   ]
  },
  {
   "cell_type": "code",
   "execution_count": null,
   "metadata": {},
   "outputs": [],
   "source": [
    "# Python program to demonstrate\n",
    "# Addition of elements in a Set\n",
    " \n",
    "# Creating a Set\n",
    "set1 = set()\n",
    "print(\"Initial blank Set: \")\n",
    "print(set1)\n",
    " \n",
    "# Adding element and tuple to the Set\n",
    "set1.add(8)\n",
    "set1.add(9)\n",
    "set1.add((6,7))\n",
    "print(\"\\nSet after Addition of Three elements: \")\n",
    "print(set1)\n",
    " \n",
    "# Adding elements to the Set\n",
    "# using Iterator\n",
    "for i in range(1, 6):\n",
    "    set1.add(i)\n",
    "print(\"\\nSet after Addition of elements from 1-5: \")\n",
    "print(set1)"
   ]
  },
  {
   "cell_type": "markdown",
   "metadata": {},
   "source": [
    "               Using update() method:-\n",
    "               \n",
    "               \n",
    "=> For addition of two or more elements Update() method is used. \n",
    "\n",
    "=> The update() method accepts lists, strings, tuples as well as other sets as its arguments. \n",
    "\n",
    "=> In all of these cases, duplicate elements are avoided."
   ]
  },
  {
   "cell_type": "code",
   "execution_count": null,
   "metadata": {},
   "outputs": [],
   "source": [
    "# Python program to demonstrate\n",
    "# Addition of elements in a Set\n",
    " \n",
    "# Addition of elements to the Set\n",
    "# using Update function\n",
    "set1 = set([ 4, 5, (6, 7)])\n",
    "set1.update([10, 11])\n",
    "print(\"\\nSet after Addition of elements using Update: \")\n",
    "print(set1)"
   ]
  },
  {
   "cell_type": "markdown",
   "metadata": {},
   "source": [
    "                                                   ##Accessing a Set##\n",
    "                                                   \n",
    "=> Set items cannot be accessed by referring to an index, since sets are unordered the items has no index. \n",
    "\n",
    "=> But you can loop through the set items using a for loop, or ask if a specified value is present in a set, by using the in keyword."
   ]
  },
  {
   "cell_type": "code",
   "execution_count": null,
   "metadata": {},
   "outputs": [],
   "source": [
    "# Python program to demonstrate\n",
    "# Accessing of elements in a set\n",
    " \n",
    "# Creating a set\n",
    "set1 = set([\"Python\", \"For\", \"Data Science\"])\n",
    "print(\"\\nInitial set\")\n",
    "print(set1)\n",
    " \n",
    "# Accessing element using\n",
    "# for loop\n",
    "print(\"\\nElements of set: \")\n",
    "for i in set1:\n",
    "    print(i, end=\" \")\n",
    "    \n",
    "print()    \n",
    "# Checking the element\n",
    "# using in keyword\n",
    "print(\"DataScience\" in set1)"
   ]
  },
  {
   "cell_type": "markdown",
   "metadata": {},
   "source": [
    "                                        ##Removing elements from the Set##\n",
    "                                        \n",
    "                                        \n",
    "                Using remove() method or discard() method:-\n",
    "                \n",
    "=> Elements can be removed from the Set by using built-in remove() function but a KeyError arises if element doesn’t exist in the set. \n",
    "\n",
    "=> To remove elements from a set without KeyError, use discard(), if the element doesn’t exist in the set, it remains unchanged."
   ]
  },
  {
   "cell_type": "code",
   "execution_count": null,
   "metadata": {},
   "outputs": [],
   "source": [
    "# Python program to demonstrate\n",
    "# Deletion of elements in a Set\n",
    " \n",
    "# Creating a Set\n",
    "set1 = set([1, 2, 3, 4, 5, 6,\n",
    "            7, 8, 9, 10, 11, 12])\n",
    "print(\"Initial Set: \")\n",
    "print(set1)\n",
    " \n",
    "# Removing elements from Set\n",
    "# using Remove() method\n",
    "set1.remove(5)\n",
    "set1.remove(6)\n",
    "print(\"\\nSet after Removal of two elements: \")\n",
    "print(set1)\n",
    " \n",
    "# Removing elements from Set\n",
    "# using Discard() method\n",
    "set1.discard(8)\n",
    "set1.discard(9)\n",
    "print(\"\\nSet after Discarding two elements: \")\n",
    "print(set1)\n",
    " \n",
    "# Removing elements from Set\n",
    "# using iterator method\n",
    "for i in range(1, 5):\n",
    "    set1.remove(i)\n",
    "print(\"\\nSet after Removing a range of elements: \")\n",
    "print(set1)"
   ]
  },
  {
   "cell_type": "markdown",
   "metadata": {},
   "source": [
    "         Using pop() method:-\n",
    "          \n",
    "=> Pop() function can also be used to remove and return an element from the set, but it removes only the last element of the set. \n",
    "\n",
    "        Note:–\n",
    "        \n",
    "=> If the set is unordered then there’s no such way to determine which element is popped by using the pop() function. "
   ]
  },
  {
   "cell_type": "code",
   "execution_count": null,
   "metadata": {},
   "outputs": [],
   "source": [
    "# Python program to demonstrate\n",
    "# Deletion of elements in a Set\n",
    " \n",
    "# Creating a Set\n",
    "set1 = set([1, 2, 3, 4, 5, 6,\n",
    "            7, 8, 9, 10, 11, 12])\n",
    "print(\"Initial Set: \")\n",
    "print(set1)\n",
    " \n",
    "# Removing element from the\n",
    "# Set using the pop() method\n",
    "set1.pop()\n",
    "print(\"\\nSet after popping an element: \")\n",
    "print(set1)"
   ]
  },
  {
   "cell_type": "markdown",
   "metadata": {},
   "source": [
    "           Using clear() method:-\n",
    "           \n",
    "=> To remove all the elements from the set, clear() function is used. "
   ]
  },
  {
   "cell_type": "code",
   "execution_count": null,
   "metadata": {},
   "outputs": [],
   "source": [
    "#Creating a set\n",
    "set1 = set([1,2,3,4,5])\n",
    "print(\"\\n Initial set: \")\n",
    "print(set1)\n",
    " \n",
    " \n",
    "# Removing all the elements from\n",
    "# Set using clear() method\n",
    "set1.clear()\n",
    "print(\"\\nSet after clearing all the elements: \")\n",
    "print(set1)"
   ]
  },
  {
   "cell_type": "markdown",
   "metadata": {},
   "source": [
    "           ####################################\n",
    "           \n",
    "=> Frozen sets in Python are immutable objects that only support methods and operators that produce a result without affecting the frozen set or sets to which they are applied. \n",
    "\n",
    "=> While elements of a set can be modified at any time, elements of the frozen set remain the same after creation. \n",
    "\n",
    "=> If no parameters are passed, it returns an empty frozenset.  "
   ]
  },
  {
   "cell_type": "code",
   "execution_count": null,
   "metadata": {},
   "outputs": [],
   "source": [
    "# Python program to demonstrate\n",
    "# working of a FrozenSet\n",
    " \n",
    "# Creating a Set\n",
    "String = ('P', 'y', 't', 'h', 'o', 'n')\n",
    " \n",
    "Fset1 = frozenset(String)\n",
    "print(\"The FrozenSet is: \")\n",
    "print(Fset1)\n",
    " \n",
    "# To print Empty Frozen Set\n",
    "# No parameter is passed\n",
    "print(\"\\nEmpty FrozenSet: \")\n",
    "print(frozenset())"
   ]
  },
  {
   "cell_type": "markdown",
   "metadata": {},
   "source": [
    "                   ##Set Methods##\n",
    "                   \n",
    "                                    \n",
    "      Function                            Description\n",
    "     \n",
    "       add()----------------------------Adds an element to a set\n",
    "       \n",
    "     remove()-------------------------Removes an element from a set. If the element is not present in the set, raise a                   KeyError\n",
    "       \n",
    "       clear()--------------------------Removes all elements form a set\n",
    "       \n",
    "       copy()---------------------------Returns a shallow copy of a set\n",
    "       \n",
    "       pop()----------------------------Removes and returns an arbitrary set element. Raise KeyError if the set is empty\n",
    "       \n",
    "       update()-------------------------Updates a set with the union of itself and others\n",
    "       \n",
    "       union()--------------------------Returns the union of sets in a new set\n",
    "       \n",
    "       difference()---------------------Returns the difference of two or more sets as a new set\n",
    "       \n",
    "       difference_update()--------------Removes all elements of another set from this set\n",
    "       \n",
    "       discard()------------------------Removes an element from set if it is a member. (Do nothing if the element is not                                           in set)\n",
    "       \n",
    "       intersection()-------------------Returns the intersection of two sets as a new set\n",
    "       \n",
    "       intersection_update()------------Updates the set with the intersection of itself and another\n",
    "       \n",
    "       isdisjoint()---------------------Returns True if two sets have a null intersection\n",
    "       \n",
    "       issubset()-----------------------Returns True if another set contains this set\n",
    "       \n",
    "       issuperset()---------------------Returns True if this set contains another set\n",
    "       \n",
    "       symmetric_difference()-----------Returns the symmetric difference of two sets as a new set\n",
    "       \n",
    "       symmetric_difference_update()----Updates a set with the symmetric difference of itself and another\n",
    "       "
   ]
  },
  {
   "cell_type": "code",
   "execution_count": null,
   "metadata": {},
   "outputs": [],
   "source": []
  }
 ],
 "metadata": {
  "kernelspec": {
   "display_name": "Python 3",
   "language": "python",
   "name": "python3"
  },
  "language_info": {
   "codemirror_mode": {
    "name": "ipython",
    "version": 3
   },
   "file_extension": ".py",
   "mimetype": "text/x-python",
   "name": "python",
   "nbconvert_exporter": "python",
   "pygments_lexer": "ipython3",
   "version": "3.8.5"
  }
 },
 "nbformat": 4,
 "nbformat_minor": 4
}
