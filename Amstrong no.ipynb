{
 "cells": [
  {
   "cell_type": "markdown",
   "metadata": {},
   "source": [
    "* 12.$Python$ $Program$ $to$ $Check$ $Armstrong$ $Number$ $(for$ $3$ $digits)$ $:-$"
   ]
  },
  {
   "cell_type": "code",
   "execution_count": null,
   "metadata": {},
   "outputs": [],
   "source": [
    "amnum=(input('Enter the Number : '))\n",
    "qub=0\n",
    "for i in range(len(amnum)):\n",
    "         qub+=int(amnum[i])**int(len(amnum))\n",
    "if qub==int(amnum):\n",
    "     print('Amstrong no')\n",
    "else:\n",
    "     print('not a amstrong no')"
   ]
  },
  {
   "cell_type": "markdown",
   "metadata": {},
   "source": [
    "* $13.Python$ $Program$ $to$ $Find$ $Armstrong$ $Number$ $in$ $an$ $Interval$ $:-$\n"
   ]
  },
  {
   "cell_type": "code",
   "execution_count": null,
   "metadata": {},
   "outputs": [],
   "source": [
    "inter=int(input('Enter the interval between 1 to :'))\n",
    "count=0\n",
    "for i in range(1,inter):\n",
    "    amnum=str(i)\n",
    "    qub=0\n",
    "    for i in range(len(amnum)):\n",
    "         qub+=int(amnum[i])**int(len(amnum))\n",
    "    if qub==int(amnum):\n",
    "        count+=1    \n",
    "        print(qub,end=',')\n",
    "print('\\nThere are {0} Amstrong no in between 1 and {1}'.format(count,inter))    \n"
   ]
  },
  {
   "cell_type": "code",
   "execution_count": null,
   "metadata": {},
   "outputs": [],
   "source": []
  }
 ],
 "metadata": {
  "kernelspec": {
   "display_name": "Python 3",
   "language": "python",
   "name": "python3"
  },
  "language_info": {
   "codemirror_mode": {
    "name": "ipython",
    "version": 3
   },
   "file_extension": ".py",
   "mimetype": "text/x-python",
   "name": "python",
   "nbconvert_exporter": "python",
   "pygments_lexer": "ipython3",
   "version": "3.8.5"
  }
 },
 "nbformat": 4,
 "nbformat_minor": 4
}
