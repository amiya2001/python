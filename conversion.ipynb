{
 "cells": [
  {
   "cell_type": "markdown",
   "metadata": {},
   "source": [
    "* $15.Python$ $Program$ $to$ $Convert$ $Decimal$ $to$ $Binary$ $:-$"
   ]
  },
  {
   "cell_type": "code",
   "execution_count": 2,
   "metadata": {},
   "outputs": [
    {
     "name": "stdin",
     "output_type": "stream",
     "text": [
      "Enter the Decimal no you want to convert : 14\n"
     ]
    },
    {
     "name": "stdout",
     "output_type": "stream",
     "text": [
      "1110"
     ]
    }
   ],
   "source": [
    "d=int(input('Enter the Decimal no you want to convert :'))\n",
    "i=0\n",
    "nd=0\n",
    "b=[]\n",
    "while(i<d):\n",
    "    b.insert(nd,d%2)\n",
    "    nd+=1\n",
    "    d=d//2\n",
    "j=-1\n",
    "for i in range (len(b)):\n",
    "    print(b[j],end='')\n",
    "    j-=1\n",
    "\n"
   ]
  },
  {
   "cell_type": "markdown",
   "metadata": {},
   "source": [
    "* $16.Python$ $Program$ $to$ $Convert$ $Decimal$ $to$ $Hexadecimal$ $:-$"
   ]
  },
  {
   "cell_type": "code",
   "execution_count": 5,
   "metadata": {},
   "outputs": [
    {
     "name": "stdin",
     "output_type": "stream",
     "text": [
      "Enter the Decimal no you want to convert : 154\n"
     ]
    },
    {
     "name": "stdout",
     "output_type": "stream",
     "text": [
      "9A"
     ]
    }
   ],
   "source": [
    " d=int(input('Enter the Decimal no you want to convert :'))\n",
    "l1=[10,11,12,13,14,15]\n",
    "l2=['A','B','C','D','E','F']\n",
    "l3=[]\n",
    "i=0\n",
    "nd=0\n",
    "while(i<d):\n",
    "    b=d%16\n",
    "    j=0\n",
    "    while(j<6):\n",
    "        if (b==l1[j]):\n",
    "            b=l2[j]\n",
    "        j+=1 \n",
    "    l3.insert(nd,b)    \n",
    "    nd+=1\n",
    "    d=d//16\n",
    "k=-1\n",
    "for item in range (len(l3)):\n",
    "    print(l3[k],end='')\n",
    "    k-=1    "
   ]
  },
  {
   "cell_type": "code",
   "execution_count": null,
   "metadata": {},
   "outputs": [],
   "source": []
  }
 ],
 "metadata": {
  "kernelspec": {
   "display_name": "Python 3",
   "language": "python",
   "name": "python3"
  },
  "language_info": {
   "codemirror_mode": {
    "name": "ipython",
    "version": 3
   },
   "file_extension": ".py",
   "mimetype": "text/x-python",
   "name": "python",
   "nbconvert_exporter": "python",
   "pygments_lexer": "ipython3",
   "version": "3.8.5"
  }
 },
 "nbformat": 4,
 "nbformat_minor": 4
}
