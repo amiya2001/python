{
 "cells": [
  {
   "cell_type": "markdown",
   "metadata": {},
   "source": [
    "## 2.Pandas DataFrame"
   ]
  },
  {
   "cell_type": "markdown",
   "metadata": {},
   "source": [
    "--> Pandas DataFrame is two-dimensional size-mutable, potentially heterogeneous tabular data structure with labeled axes (rows and columns). \n",
    "\n",
    "--> A Data frame is a two-dimensional data structure, i.e., data is aligned in a tabular fashion in rows and columns. \n",
    "\n",
    "--> Pandas DataFrame consists of three principal components, the $data$, $rows$, and $columns$."
   ]
  },
  {
   "cell_type": "markdown",
   "metadata": {},
   "source": [
    "## 1.                                          Creating a Pandas DataFrame\n",
    "                                           \n",
    "$Creating$ $an$ $empty$ $dataframe$ $:-$\n",
    "\n",
    "--> A basic DataFrame, which can be created is an Empty Dataframe.\n",
    "\n",
    "--> An Empty Dataframe is created just by calling a dataframe constructor.                                           "
   ]
  },
  {
   "cell_type": "code",
   "execution_count": null,
   "metadata": {},
   "outputs": [],
   "source": [
    "# import pandas as pd\n",
    "import pandas as pd\n",
    "  \n",
    "# Calling DataFrame constructor\n",
    "df = pd.DataFrame()\n",
    "  \n",
    "print(df)"
   ]
  },
  {
   "cell_type": "markdown",
   "metadata": {},
   "source": [
    "$Creating$ $a$ $dataframe$ $using$ $List$ $:-$\n",
    "\n",
    "--> DataFrame can be created using a single list or a list of lists."
   ]
  },
  {
   "cell_type": "code",
   "execution_count": null,
   "metadata": {},
   "outputs": [],
   "source": [
    "# list of strings\n",
    "lst = ['This','Portal','is','use ','for', 'Pandas','Study']\n",
    "  \n",
    "# Calling DataFrame constructor on list\n",
    "df = pd.DataFrame(lst)\n",
    "print(df)"
   ]
  },
  {
   "cell_type": "markdown",
   "metadata": {},
   "source": [
    "    Code #2:-\n",
    "\n",
    "Dataframe using list with index and column names"
   ]
  },
  {
   "cell_type": "code",
   "execution_count": null,
   "metadata": {},
   "outputs": [],
   "source": [
    "# list of strings\n",
    "lst = ['Ankit','alisha','anand','akhil','naga']\n",
    "  \n",
    "# Calling DataFrame constructor on list\n",
    "# with indices and columns specified\n",
    "df = pd.DataFrame(lst, index =['a', 'b', 'c', 'd', 'e',],\n",
    "                                              columns =['Names'])\n",
    "df"
   ]
  },
  {
   "cell_type": "markdown",
   "metadata": {},
   "source": [
    "    Code #3:-\n",
    "    \n",
    "-->Using $zip()$ for zipping two lists"
   ]
  },
  {
   "cell_type": "code",
   "execution_count": null,
   "metadata": {},
   "outputs": [],
   "source": [
    "  \n",
    "# list of strings\n",
    "lst = ['Ankit','Alisha','Nanda','Babu','Shubbu','Rajendra']\n",
    "  \n",
    "# list of int\n",
    "lst2 = [11, 22, 33, 44, 55, 66, 77]\n",
    "  \n",
    "# Calling DataFrame constructor after zipping\n",
    "# both lists, with columns specified\n",
    "df = pd.DataFrame(list(zip(lst, lst2)),\n",
    "               columns =['Name', 'val'])\n",
    "df"
   ]
  },
  {
   "cell_type": "markdown",
   "metadata": {},
   "source": [
    "    Code #4:-\n",
    "    \n",
    "Creating DataFrame using multi-dimensional list"
   ]
  },
  {
   "cell_type": "code",
   "execution_count": null,
   "metadata": {},
   "outputs": [],
   "source": [
    " #List1 \n",
    "lst = [['tom', 25], ['krish', 30],\n",
    "       ['nick', 26], ['juli', 22]]\n",
    "    \n",
    "df = pd.DataFrame(lst, columns =['Name', 'Age'])\n",
    "df"
   ]
  },
  {
   "cell_type": "markdown",
   "metadata": {},
   "source": [
    "    Code #5:-\n",
    "    \n",
    "Using multi-dimensional list with column name and dtype specified."
   ]
  },
  {
   "cell_type": "code",
   "execution_count": null,
   "metadata": {},
   "outputs": [],
   "source": [
    "# List1 \n",
    "lst = [['tom', 'reacher', 25], ['krish', 'pete', 30],\n",
    "       ['nick', 'wilson', 26], ['juli', 'williams', 22]]\n",
    "    \n",
    "df = pd.DataFrame(lst, columns =['FName', 'LName', 'Age'], dtype = float)\n",
    "df"
   ]
  },
  {
   "cell_type": "markdown",
   "metadata": {},
   "source": [
    "    Code #6:-\n",
    "    \n",
    "Using lists in dictionary to create dataframe"
   ]
  },
  {
   "cell_type": "code",
   "execution_count": null,
   "metadata": {},
   "outputs": [],
   "source": [
    "# list of name, degree, score\n",
    "nme = [\"aparna\", \"pankaj\", \"sudhir\", \"Geeku\"]\n",
    "deg = [\"MBA\", \"BCA\", \"M.Tech\", \"MBA\"]\n",
    "scr = [90, 40, 80, 98]\n",
    "  \n",
    "# dictionary of lists \n",
    "dict = {'name': nme, 'degree': deg, 'score': scr} \n",
    "    \n",
    "df = pd.DataFrame(dict)\n",
    "    \n",
    "df "
   ]
  },
  {
   "cell_type": "markdown",
   "metadata": {},
   "source": [
    "$Creating$ $DataFrame$ $from$ $dict$ $of$ $ndarray$ $/$ $lists$ $:-$ "
   ]
  },
  {
   "cell_type": "markdown",
   "metadata": {},
   "source": [
    "--> To create DataFrame from dict of narray/list, all the narray must be of same length.\n",
    "\n",
    "--> If index is passed then the length index should be equal to the length of arrays. \n",
    "\n",
    "--> If no index is passed, then by default, index will be range(n) where n is the array length."
   ]
  },
  {
   "cell_type": "markdown",
   "metadata": {},
   "source": [
    "       Example #1:-\n",
    "\n",
    "Given a dictionary which contains format of cricket as keys and list of top five teams as values."
   ]
  },
  {
   "cell_type": "code",
   "execution_count": null,
   "metadata": {},
   "outputs": [],
   "source": [
    "# Define a dictionary containing ICC rankings\n",
    "rankings = {'test': ['India', 'South Africa', 'England',\n",
    "                            'New Zealand', 'Australia'],\n",
    "              'odi': ['England', 'India', 'New Zealand',\n",
    "                            'South Africa', 'Pakistan'],\n",
    "               't20': ['Pakistan', 'India', 'Australia', \n",
    "                              'England', 'New Zealand']}\n",
    "  \n",
    "# Convert the dictionary into DataFrame\n",
    "rankings_pd = pd.DataFrame(rankings)\n",
    "  \n",
    "# Increment the index so that index \n",
    "# starts at 1 (starts at 0 by default) \n",
    "rankings_pd.index += 1\n",
    "  \n",
    "rankings_pd"
   ]
  },
  {
   "cell_type": "markdown",
   "metadata": {},
   "source": [
    "    Example #2:-\n",
    "    \n",
    "Given three lists $test$ $batsmen$, $odi$ $batsmen$, $t20$ $batsmen$. So we first need to convert this data into a dictionary and then convert the dictionary into DataFrame.\n",
    "\n"
   ]
  },
  {
   "cell_type": "code",
   "execution_count": null,
   "metadata": {},
   "outputs": [],
   "source": [
    "# Lists of top 5 batsmen for each format\n",
    "test_batsmen = ['Virat Kohli', 'Steve Smith', 'Kane Williamson',\n",
    "                                     'Joe Root', 'David Warner']\n",
    "odi_batsmen = ['Virat Kohli', 'Rohit Sharma', 'Joe Root',\n",
    "                            'David Warner', 'Babar Azam']\n",
    "t20_batsmen = ['Babar Azam', 'Aaron Finch', 'Colin Munro',\n",
    "                           'Lokesh Rahul', 'Fakhar Zaman']\n",
    "  \n",
    "# Define a dictionary containing ICC rankings for batsmen\n",
    "rankings_batsmen = {'test': test_batsmen,\n",
    "                      'odi': odi_batsmen,\n",
    "                      't20': t20_batsmen}\n",
    "  \n",
    "# Convert the dictionary into DataFrame\n",
    "rankings_batsmen_pd = pd.DataFrame(rankings_batsmen)\n",
    "  \n",
    "# Increment the index so that index\n",
    "# starts at 1 (starts at 0 by default) \n",
    "rankings_batsmen_pd.index += 1\n",
    "  \n",
    "rankings_batsmen_pd"
   ]
  },
  {
   "cell_type": "markdown",
   "metadata": {},
   "source": [
    "     Example #3:-\n",
    "\n",
    "Creating DataFrame from Dicts of series.\n",
    "\n",
    "To create DataFrame from Dicts of series, dictionary can be passed to form a DataFrame.\n",
    "\n",
    "The resultant index is the union of all the series of passed indexed."
   ]
  },
  {
   "cell_type": "code",
   "execution_count": null,
   "metadata": {},
   "outputs": [],
   "source": [
    "# Intialise data to Dicts of series.\n",
    "d = {'one' : pd.Series([10, 20, 30, 40],\n",
    "                       index =['a', 'b', 'c', 'd']),\n",
    "      'two' : pd.Series([10, 20, 30, 40],\n",
    "                        index =['a', 'b', 'c', 'd'])}\n",
    "  \n",
    "# creates Dataframe.\n",
    "df = pd.DataFrame(d)\n",
    "  \n",
    "# print the data.\n",
    "df"
   ]
  },
  {
   "cell_type": "code",
   "execution_count": null,
   "metadata": {},
   "outputs": [],
   "source": []
  }
 ],
 "metadata": {
  "kernelspec": {
   "display_name": "Python 3",
   "language": "python",
   "name": "python3"
  },
  "language_info": {
   "codemirror_mode": {
    "name": "ipython",
    "version": 3
   },
   "file_extension": ".py",
   "mimetype": "text/x-python",
   "name": "python",
   "nbconvert_exporter": "python",
   "pygments_lexer": "ipython3",
   "version": "3.8.5"
  }
 },
 "nbformat": 4,
 "nbformat_minor": 4
}
