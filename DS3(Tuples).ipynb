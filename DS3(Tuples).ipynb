{
 "cells": [
  {
   "cell_type": "markdown",
   "metadata": {},
   "source": [
    "## 3.Python Tuple\n",
    "\n",
    "=> Tuple is a collection of Python objects much like a list.\n",
    "\n",
    "=> The sequence of values stored in a tuple can be of any type, and they are indexed by integers. \n",
    "\n",
    "=> Values of a tuple are syntactically separated by ‘commas’.\n",
    "\n",
    "=> Although it is not necessary, it is more common to define a tuple by closing the sequence of values in parentheses. \n",
    "\n",
    "=> This helps in understanding the Python tuples more easily.\n",
    " \n",
    "\n",
    "                                                ##Creating a Tuple\n",
    "                                                \n",
    "=> In Python, tuples are created by placing a sequence of values separated by ‘comma’ with or without the use of parentheses for grouping the data sequence.\n",
    " \n",
    "             Note:-\n",
    " \n",
    "=> Creation of Python tuple without the use of parentheses is known as Tuple Packing. \n",
    "\n",
    "      EX:-"
   ]
  },
  {
   "cell_type": "code",
   "execution_count": 1,
   "metadata": {},
   "outputs": [
    {
     "name": "stdout",
     "output_type": "stream",
     "text": [
      "Initial empty Tuple: \n",
      "()\n",
      "\n",
      "Tuple with the use of String: \n",
      "('Amiya', 'Python')\n",
      "\n",
      "Tuple using List: \n",
      "(1, 2, 4, 5, 6)\n",
      "\n",
      "Tuple with the use of function: \n",
      "('A', 'm', 'i', 'y', 'a')\n"
     ]
    }
   ],
   "source": [
    "\n",
    "#Python program to demonstrate the addition of elements in a Tuple.\n",
    "#Creating an empty Tuple\n",
    "Tuple1 = ()\n",
    "print(\"Initial empty Tuple: \")\n",
    "print (Tuple1)\n",
    " \n",
    "#Creatting a Tuple\n",
    "#with the use of string\n",
    "Tuple1 = ('Amiya', 'Python')\n",
    "print(\"\\nTuple with the use of String: \")\n",
    "print(Tuple1)\n",
    " \n",
    "# Creating a Tuple with\n",
    "# the use of list\n",
    "list1 = [1, 2, 4, 5, 6]\n",
    "print(\"\\nTuple using List: \")\n",
    "print(tuple(list1))\n",
    " \n",
    "#Creating a Tuple\n",
    "#with the use of built-in function\n",
    "Tuple1 = tuple('Amiya')\n",
    "print(\"\\nTuple with the use of function: \")\n",
    "print(Tuple1)"
   ]
  },
  {
   "cell_type": "markdown",
   "metadata": {},
   "source": [
    "        Creating a Tuple with Mixed Datatypes:-\n",
    "        \n",
    "=> Tuples can contain any number of elements and of any datatype (like strings, integers, list, etc.).\n",
    "\n",
    "=> Tuples can also be created with a single element, but it is a bit tricky.\n",
    "\n",
    "=> Having one element in the parentheses is not sufficient, there must be a trailing ‘comma’ to make it a tuple.\n",
    " \n",
    "     Ex:-"
   ]
  },
  {
   "cell_type": "code",
   "execution_count": 2,
   "metadata": {},
   "outputs": [
    {
     "name": "stdout",
     "output_type": "stream",
     "text": [
      "\n",
      "Tuple with Mixed Datatypes: \n",
      "(5, 'Welcome', 7, 'Amiya')\n",
      "\n",
      "Tuple with nested tuples: \n",
      "((0, 1, 2, 3), ('python', 'Tutorial'))\n",
      "\n",
      "Tuple with repetition: \n",
      "('Amiya', 'Amiya', 'Amiya')\n",
      "\n",
      "Tuple with a loop\n",
      "('Python',)\n",
      "(('Python',),)\n",
      "((('Python',),),)\n",
      "(((('Python',),),),)\n",
      "((((('Python',),),),),)\n"
     ]
    }
   ],
   "source": [
    "#Creating a Tuple\n",
    "#with Mixed Datatype\n",
    "Tuple1 = (5, 'Welcome', 7, 'Amiya')\n",
    "print(\"\\nTuple with Mixed Datatypes: \")\n",
    "print(Tuple1)\n",
    " \n",
    "#Creating a Tuple\n",
    "#with nested tuples\n",
    "Tuple1 = (0, 1, 2, 3)\n",
    "Tuple2 = ('python', 'Tutorial')\n",
    "Tuple3 = (Tuple1, Tuple2)\n",
    "print(\"\\nTuple with nested tuples: \")\n",
    "print(Tuple3)\n",
    " \n",
    "#Creating a Tuple\n",
    "#with repetition\n",
    "Tuple1 = ('Amiya',) * 3\n",
    "print(\"\\nTuple with repetition: \")\n",
    "print(Tuple1)\n",
    " \n",
    "#Creating a Tuple\n",
    "#with the use of loop\n",
    "Tuple1 = ('Python')\n",
    "n = 5\n",
    "print(\"\\nTuple with a loop\")\n",
    "for i in range(int(n)):\n",
    "    Tuple1 = (Tuple1,)\n",
    "    print(Tuple1)\n",
    " "
   ]
  },
  {
   "cell_type": "markdown",
   "metadata": {},
   "source": [
    "                                                   ##Accessing of Tuples##\n",
    "                                                   \n",
    "                                                   \n",
    "=> Tuples are immutable, and usually, they contain a sequence of heterogeneous elements that are accessed via unpacking or indexing (or even by attribute in the case of named tuples). \n",
    "\n",
    "=> Lists are mutable, and their elements are usually homogeneous and are accessed by iterating over the list.\n",
    " \n",
    "           Note:- \n",
    "           \n",
    "=> In unpacking of tuple number of variables on the left-hand side should be equal to a number of values in given tuple a.\n",
    "\n",
    "     EX:-"
   ]
  },
  {
   "cell_type": "code",
   "execution_count": 3,
   "metadata": {},
   "outputs": [
    {
     "name": "stdout",
     "output_type": "stream",
     "text": [
      "\n",
      "First element of Tuple: \n",
      "y\n",
      "\n",
      "Values after unpacking: \n",
      "Python\n",
      "For\n",
      "Data Science\n"
     ]
    }
   ],
   "source": [
    "#Accessing Tuple\n",
    "#with Indexing\n",
    "Tuple1 = tuple(\"Python\")\n",
    "print(\"\\nFirst element of Tuple: \")\n",
    "print(Tuple1[1])\n",
    " \n",
    " \n",
    "#Tuple unpacking\n",
    "Tuple1 = (\"Python\", \"For\", \"Data Science\")\n",
    " \n",
    "#This line unpack\n",
    "#values of Tuple1\n",
    "a, b, c = Tuple1\n",
    "print(\"\\nValues after unpacking: \")\n",
    "print(a)\n",
    "print(b)\n",
    "print(c)"
   ]
  },
  {
   "cell_type": "markdown",
   "metadata": {},
   "source": [
    "\n",
    "                                              ##Concatenation of Tuples##\n",
    "                                              \n",
    "                                              \n",
    "                                              \n",
    "=> Concatenation of tuple is the process of joining two or more Tuples.\n",
    "\n",
    "=> Concatenation is done by the use of ‘+’ operator.\n",
    "\n",
    "=> Concatenation of tuples is done always from the end of the original tuple.\n",
    "\n",
    "=> Other arithmetic operations do not apply on Tuples. \n",
    "\n",
    "            Note:-\n",
    "            \n",
    "=> Only the same datatypes can be combined with concatenation, an error arises if a list and a tuple are combined. \n",
    " \n",
    "       Ex:-"
   ]
  },
  {
   "cell_type": "code",
   "execution_count": 4,
   "metadata": {},
   "outputs": [
    {
     "name": "stdout",
     "output_type": "stream",
     "text": [
      "Tuple 1: \n",
      "(0, 1, 2, 3)\n",
      "\n",
      "Tuple2: \n",
      "('Python ', 'For', 'Data Science')\n",
      "\n",
      "Tuples after Concatenaton: \n",
      "(0, 1, 2, 3, 'Python ', 'For', 'Data Science')\n"
     ]
    }
   ],
   "source": [
    "\n",
    "# Concatenaton of tuples\n",
    "Tuple1 = (0, 1, 2, 3)\n",
    "Tuple2 = ('Python ', 'For', 'Data Science')\n",
    " \n",
    "Tuple3 = Tuple1 + Tuple2\n",
    " \n",
    "# Printing first Tuple\n",
    "print(\"Tuple 1: \")\n",
    "print(Tuple1)\n",
    " \n",
    "# Printing Second Tuple\n",
    "print(\"\\nTuple2: \")\n",
    "print(Tuple2)\n",
    " \n",
    "# Printing Final Tuple\n",
    "print(\"\\nTuples after Concatenaton: \")\n",
    "print(Tuple3)"
   ]
  },
  {
   "cell_type": "markdown",
   "metadata": {},
   "source": [
    "                                                  ##Slicing of Tuple##\n",
    "                                                  \n",
    "                                                  \n",
    "=> Slicing of a Tuple is done to fetch a specific range or slice of sub-elements from a Tuple. \n",
    "\n",
    "=> Slicing can also be done to lists and arrays.\n",
    "\n",
    "=> Indexing in a list results to fetching a single element whereas Slicing allows to fetch a set of elements.\n",
    "\n",
    "               Note:- \n",
    "               \n",
    "=> Negative Increment values can also be used to reverse the sequence of Tuples \n",
    " \n",
    "     Ex:-"
   ]
  },
  {
   "cell_type": "code",
   "execution_count": 5,
   "metadata": {},
   "outputs": [
    {
     "name": "stdout",
     "output_type": "stream",
     "text": [
      "Removal of First Element: \n",
      "('Y', 'T', 'H', 'O', 'N', 'F', 'O', 'R', 'D', 'A', 'T', 'A', 'S', 'C', 'I', 'E', 'N', 'C', 'E')\n",
      "\n",
      "Tuple after sequence of Element is reversed: \n",
      "('E', 'C', 'N', 'E', 'I', 'C', 'S', 'A', 'T', 'A', 'D', 'R', 'O', 'F', 'N', 'O', 'H', 'T', 'Y', 'P')\n",
      "\n",
      "Printing elements between Range 4-9: \n",
      "('O', 'N', 'F', 'O', 'R')\n"
     ]
    }
   ],
   "source": [
    " # Slicing of a Tuple\n",
    "# with Numbers\n",
    "Tuple1 = tuple('PYTHONFORDATASCIENCE')\n",
    " \n",
    "# Removing First element\n",
    "print(\"Removal of First Element: \")\n",
    "print(Tuple1[1:])\n",
    " \n",
    "# Reversing the Tuple\n",
    "print(\"\\nTuple after sequence of Element is reversed: \")\n",
    "print(Tuple1[::-1])\n",
    " \n",
    "# Printing elements of a Range\n",
    "print(\"\\nPrinting elements between Range 4-9: \")\n",
    "print(Tuple1[4:9])"
   ]
  },
  {
   "cell_type": "markdown",
   "metadata": {},
   "source": [
    "                                                     ##Deleting a Tuple##\n",
    "                                                     \n",
    "                                                     \n",
    "=> Tuples are immutable and hence they do not allow deletion of a part of it. \n",
    "\n",
    "=> The entire tuple gets deleted by the use of del() method. \n",
    " \n",
    "            Note:-\n",
    "   \n",
    "=> Printing of Tuple after deletion results in an Error.\n",
    "\n",
    "       Ex:-"
   ]
  },
  {
   "cell_type": "code",
   "execution_count": 6,
   "metadata": {},
   "outputs": [
    {
     "ename": "NameError",
     "evalue": "name 'Tuple1' is not defined",
     "output_type": "error",
     "traceback": [
      "\u001b[1;31m---------------------------------------------------------------------------\u001b[0m",
      "\u001b[1;31mNameError\u001b[0m                                 Traceback (most recent call last)",
      "\u001b[1;32m<ipython-input-6-2b86997624df>\u001b[0m in \u001b[0;36m<module>\u001b[1;34m\u001b[0m\n\u001b[0;32m      4\u001b[0m \u001b[1;32mdel\u001b[0m \u001b[0mTuple1\u001b[0m\u001b[1;33m\u001b[0m\u001b[1;33m\u001b[0m\u001b[0m\n\u001b[0;32m      5\u001b[0m \u001b[1;33m\u001b[0m\u001b[0m\n\u001b[1;32m----> 6\u001b[1;33m \u001b[0mprint\u001b[0m\u001b[1;33m(\u001b[0m\u001b[0mTuple1\u001b[0m\u001b[1;33m)\u001b[0m\u001b[1;33m\u001b[0m\u001b[1;33m\u001b[0m\u001b[0m\n\u001b[0m",
      "\u001b[1;31mNameError\u001b[0m: name 'Tuple1' is not defined"
     ]
    }
   ],
   "source": [
    "# Deleting a Tuple\n",
    " \n",
    "Tuple1 = (0, 1, 2, 3, 4)\n",
    "del Tuple1\n",
    " \n",
    "print(Tuple1)"
   ]
  },
  {
   "cell_type": "markdown",
   "metadata": {},
   "source": [
    " \n",
    "\n",
    "       Built-in-Method                                  Description\n",
    "       \n",
    "index( )-------------------------------------------find in the tuple and returns the index of the given value where it’s available\n",
    "\n",
    "count( )-------------------------------------------returns the frequency of occurrence of a specified value\n",
    "\n",
    "all()----------------------------------------------Returns true if all element are true or if tuple is empty\n",
    "\n",
    "any()----------------------------------------------return true if any element of the tuple is true. if tuple is empty, \n",
    "return false\n",
    "\n",
    "len()----------------------------------------------Returns length of the tuple or size of the tuple\n",
    "\n",
    "enumerate()----------------------------------------Returns enumerate object of tuple\n",
    "\n",
    "max()----------------------------------------------return maximum element of given tuple\n",
    "\n",
    "min()----------------------------------------------return minimum element of given tuple\n",
    "\n",
    "sum()----------------------------------------------Sums up the numbers in the tuple\n",
    "\n",
    "sorted()-------------------------------------------input elements in the tuple and return a new sorted list\n",
    "\n",
    "tuple()--------------------------------------------Convert an iterable to a tuple"
   ]
  },
  {
   "cell_type": "code",
   "execution_count": null,
   "metadata": {},
   "outputs": [],
   "source": []
  }
 ],
 "metadata": {
  "kernelspec": {
   "display_name": "Python 3",
   "language": "python",
   "name": "python3"
  },
  "language_info": {
   "codemirror_mode": {
    "name": "ipython",
    "version": 3
   },
   "file_extension": ".py",
   "mimetype": "text/x-python",
   "name": "python",
   "nbconvert_exporter": "python",
   "pygments_lexer": "ipython3",
   "version": "3.8.5"
  }
 },
 "nbformat": 4,
 "nbformat_minor": 4
}
