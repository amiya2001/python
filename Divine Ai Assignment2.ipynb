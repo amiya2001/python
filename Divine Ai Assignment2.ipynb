{
 "cells": [
  {
   "cell_type": "markdown",
   "metadata": {},
   "source": [
    "\n"
   ]
  },
  {
   "cell_type": "markdown",
   "metadata": {},
   "source": [
    "* $1.find$ $the$ $sum$ $of$ $the$ $cube$ $of$ $each$ $digit$ $:-$\n"
   ]
  },
  {
   "cell_type": "code",
   "execution_count": null,
   "metadata": {},
   "outputs": [],
   "source": [
    "num=(input('Enter the Number : '))\n",
    "qub=0\n",
    "for i in range(len(num)):\n",
    "    qub+=int(num[i])**3\n",
    "print('The qube of {0} is : {1}'.format(num,qub))    "
   ]
  },
  {
   "cell_type": "markdown",
   "metadata": {},
   "source": [
    "* $2.Python$ $Program$ $to$ $Find$ $Armstrong$ $Number$ $in$ $an$ $Interval$ $:-$\n"
   ]
  },
  {
   "cell_type": "code",
   "execution_count": 3,
   "metadata": {},
   "outputs": [
    {
     "name": "stdin",
     "output_type": "stream",
     "text": [
      "Enter the interval between 1 to : 2000\n"
     ]
    },
    {
     "name": "stdout",
     "output_type": "stream",
     "text": [
      "1,2,3,4,5,6,7,8,9,153,370,371,407,1634,\n",
      "There are 14 Amstrong no in between 1 and 2000\n"
     ]
    }
   ],
   "source": [
    "inter=int(input('Enter the interval between 1 to :'))\n",
    "count=0\n",
    "for i in range(1,inter):\n",
    "    amnum=str(i)\n",
    "    qub=0\n",
    "    for i in range(len(amnum)):\n",
    "         qub+=int(amnum[i])**int(len(amnum))\n",
    "    if qub==int(amnum):\n",
    "        count+=1    \n",
    "        print(qub,end=',')\n",
    "print('\\nThere are {0} Amstrong no in between 1 and {1}'.format(count,inter))    \n"
   ]
  },
  {
   "cell_type": "markdown",
   "metadata": {},
   "source": [
    "* $3.Python$ $Program$ $to$ $Find$ $the$ $Sum$ $of$ $Natural$ $Numbers$\n",
    " $:-$"
   ]
  },
  {
   "cell_type": "markdown",
   "metadata": {},
   "source": [
    "* $4.Python$ $Program$ $To$ $Display$ $Powers$ $of$ $2$ $Using$ $Anonymous$ $Function$ $Display$ $the$ $powers$ $of$ $2$ $using$ $anonymous$ $function$ $:-$\n"
   ]
  },
  {
   "cell_type": "code",
   "execution_count": null,
   "metadata": {},
   "outputs": [],
   "source": [
    "sq=lambda x: x**2 \n",
    "print(sq(2))\n"
   ]
  },
  {
   "cell_type": "markdown",
   "metadata": {},
   "source": [
    "* $5.Python$ $Program$ $to$ $Find$ $Numbers$ $Divisible$ $by$ $Another$ $Number$ $:-$\n"
   ]
  },
  {
   "cell_type": "code",
   "execution_count": null,
   "metadata": {},
   "outputs": [],
   "source": [
    "d=float(input('Enter the no you want to divide : '))\n",
    "d2=float(input('Enter the no you want to divided with:'))\n",
    "print('Result is :',d/d2)"
   ]
  },
  {
   "cell_type": "markdown",
   "metadata": {},
   "source": [
    "* $6.Python$ $Program$ $to$ $Convert$ $Decimal$ $to$ $Binary$ $:-$"
   ]
  },
  {
   "cell_type": "code",
   "execution_count": 18,
   "metadata": {},
   "outputs": [
    {
     "name": "stdin",
     "output_type": "stream",
     "text": [
      "Enter the Decimal no you want to convert : 28\n"
     ]
    },
    {
     "name": "stdout",
     "output_type": "stream",
     "text": [
      "11100"
     ]
    }
   ],
   "source": [
    "d=int(input('Enter the Decimal no you want to convert :'))\n",
    "i=0\n",
    "nd=0\n",
    "b=[]\n",
    "while(i<d):\n",
    "    b.insert(nd,d%2)\n",
    "    nd+=1\n",
    "    d=d//2\n",
    "j=-1\n",
    "for i in range (len(b)):\n",
    "    print(b[j],end='')\n",
    "    j-=1\n",
    "\n"
   ]
  },
  {
   "cell_type": "markdown",
   "metadata": {},
   "source": [
    "* $7.Python$ $Program$ $to$ $Convert$ $Decimal$ $to$ $Hexadecimal$ $:-$"
   ]
  },
  {
   "cell_type": "code",
   "execution_count": 34,
   "metadata": {},
   "outputs": [
    {
     "name": "stdin",
     "output_type": "stream",
     "text": [
      "Enter the Decimal no you want to convert : 123456789\n"
     ]
    },
    {
     "name": "stdout",
     "output_type": "stream",
     "text": [
      "75BCD15"
     ]
    }
   ],
   "source": [
    "d=int(input('Enter the Decimal no you want to convert :'))\n",
    "l1=[10,11,12,13,14,15]\n",
    "l2=['A','B','C','D','E','F']\n",
    "l3=[]\n",
    "i=0\n",
    "nd=0\n",
    "while(i<d):\n",
    "    b=d%16\n",
    "    j=0\n",
    "    while(j<6):\n",
    "        if (b==l1[j]):\n",
    "            b=l2[j]\n",
    "        j+=1 \n",
    "    l3.insert(nd,b)    \n",
    "    nd+=1\n",
    "    d=d//16\n",
    "k=-1\n",
    "for item in range (len(l3)):\n",
    "    print(l3[k],end='')\n",
    "    k-=1    "
   ]
  },
  {
   "cell_type": "markdown",
   "metadata": {},
   "source": [
    "* $8.Python$ $Program$ $to$ $Find$ $ASCII$ $Value$ $of$ $Character$ $:-$"
   ]
  },
  {
   "cell_type": "code",
   "execution_count": 39,
   "metadata": {},
   "outputs": [
    {
     "name": "stdin",
     "output_type": "stream",
     "text": [
      "Enter the Charecter : <\n"
     ]
    },
    {
     "name": "stdout",
     "output_type": "stream",
     "text": [
      "The ASCII Value of < is 60\n"
     ]
    }
   ],
   "source": [
    "char=input('Enter the Charecter :')\n",
    "print('The ASCII Value of {0} is {1}'.format(char,ord(char)))"
   ]
  },
  {
   "cell_type": "markdown",
   "metadata": {},
   "source": [
    "* $9.Python$ $Program$ $to$ $Find$ $HCF$ $or$ $GCD$ $:-$"
   ]
  },
  {
   "cell_type": "code",
   "execution_count": 1,
   "metadata": {},
   "outputs": [
    {
     "name": "stdin",
     "output_type": "stream",
     "text": [
      "Enter the 1st no : 54\n",
      "Enter the 2nd no : 24\n"
     ]
    },
    {
     "name": "stdout",
     "output_type": "stream",
     "text": [
      "The H.C.F. is 6\n"
     ]
    }
   ],
   "source": [
    "num1=int(input('Enter the 1st no :'))\n",
    "num2=int(input('Enter the 2nd no :'))\n",
    "if num1 > num2:\n",
    "    smaller = num2\n",
    "else:\n",
    "    smaller = num1\n",
    "for i in range(1, smaller+1):\n",
    "    if((num1 % i == 0) and (num2 % i == 0)):\n",
    "            hcf = i\n",
    "print(\"The H.C.F. is\", hcf)\n",
    "\n",
    "  "
   ]
  },
  {
   "cell_type": "markdown",
   "metadata": {},
   "source": [
    "* $10.Write$ $a$ $python$ $function$ $to$ $find$ $HCf$ $or$ $GCD$ $and$ $return$ $the$ $value$ $:-$"
   ]
  },
  {
   "cell_type": "code",
   "execution_count": 8,
   "metadata": {},
   "outputs": [
    {
     "name": "stdin",
     "output_type": "stream",
     "text": [
      "Enter the 1st no : 54\n",
      "Enter the 2nd no : 24\n"
     ]
    },
    {
     "name": "stdout",
     "output_type": "stream",
     "text": [
      "The H.C.F. is 6\n"
     ]
    }
   ],
   "source": [
    "def find_hcf(x,y):\n",
    "    if x > y:\n",
    "        smaller = y\n",
    "    else:\n",
    "        smaller = x\n",
    "    for i in range(1, smaller+1):\n",
    "         if((x % i == 0) and (y % i == 0)):\n",
    "                hcf = i\n",
    "    return hcf\n",
    "num1=int(input('Enter the 1st no :'))\n",
    "num2=int(input('Enter the 2nd no :'))\n",
    "h=find_hcf(num1,num2)\n",
    "\n",
    "print(\"The H.C.F. is\", h)    \n"
   ]
  },
  {
   "cell_type": "markdown",
   "metadata": {},
   "source": [
    "* $11.Write$ $a$ $python$ $function$ $to$ $find$ $HCf$ $or$ $GCD$ $and$ $return$ $the$ $value$ $using$ $euclidian$ $Algorithm$ $:-$"
   ]
  },
  {
   "cell_type": "code",
   "execution_count": 11,
   "metadata": {},
   "outputs": [
    {
     "name": "stdin",
     "output_type": "stream",
     "text": [
      "Enter the 1st no : 54\n",
      "Enter the 2nd no : 24\n"
     ]
    },
    {
     "name": "stdout",
     "output_type": "stream",
     "text": [
      "The gcd of 60 and 48 is : 6\n"
     ]
    }
   ],
   "source": [
    "def computeGCD(x, y):\n",
    "  \n",
    "   while(y):\n",
    "       x, y = y, x % y\n",
    "  \n",
    "   return x\n",
    "  \n",
    "a = int(input('Enter the 1st no :'))\n",
    "b= int(input('Enter the 2nd no :'))\n",
    "print (\"The gcd of 60 and 48 is : \",end=\"\")\n",
    "print (computeGCD(a,b))"
   ]
  },
  {
   "cell_type": "markdown",
   "metadata": {},
   "source": [
    "* $12.Python$ $Program$ $to$ $Find$ $LCM$ $:-$"
   ]
  },
  {
   "cell_type": "code",
   "execution_count": null,
   "metadata": {},
   "outputs": [],
   "source": [
    "num1=int(input('Enter the 1st no :'))\n",
    "num2=int(input('Enter the 2nd no :'))\n",
    "if num1 < num2:\n",
    "    greater = num2\n",
    "else:\n",
    "    greater = num1\n",
    "while (True):\n",
    "    if((greater % num1 == 0) and (greater %num2== 0)):\n",
    "            lcm = greater\n",
    "            break\n",
    "            \n",
    "print(\"The H.C.F. is\", lcm)\n"
   ]
  },
  {
   "cell_type": "markdown",
   "metadata": {},
   "source": [
    "#write a Python function to Find LCM and returb the value"
   ]
  },
  {
   "cell_type": "markdown",
   "metadata": {},
   "source": [
    "#Python Program to Compute LCM Using GCD"
   ]
  },
  {
   "cell_type": "markdown",
   "metadata": {},
   "source": [
    "#Python funcction to Find the Factors of a Number"
   ]
  },
  {
   "cell_type": "code",
   "execution_count": null,
   "metadata": {},
   "outputs": [],
   "source": [
    "#Python Program to Make a Simple Calculator"
   ]
  },
  {
   "cell_type": "code",
   "execution_count": null,
   "metadata": {},
   "outputs": [],
   "source": [
    "#Python Program to Display Fibonacci Sequence Using Recursion"
   ]
  },
  {
   "cell_type": "code",
   "execution_count": null,
   "metadata": {},
   "outputs": [],
   "source": [
    "#Python Program to Find Sum of Natural Numbers Using Recursion"
   ]
  },
  {
   "cell_type": "code",
   "execution_count": null,
   "metadata": {},
   "outputs": [],
   "source": [
    "#Python Program to Find Factorial of Number Using Recursion"
   ]
  },
  {
   "cell_type": "code",
   "execution_count": null,
   "metadata": {},
   "outputs": [],
   "source": [
    "#Python Program to Add Two Matrices"
   ]
  },
  {
   "cell_type": "code",
   "execution_count": null,
   "metadata": {},
   "outputs": [],
   "source": [
    "#Python Program to Add Two Matrices using Nested List Comprehension"
   ]
  },
  {
   "cell_type": "code",
   "execution_count": null,
   "metadata": {},
   "outputs": [],
   "source": [
    "#Python Program to Transpose a Matrix using Nested Loop"
   ]
  },
  {
   "cell_type": "code",
   "execution_count": null,
   "metadata": {},
   "outputs": [],
   "source": [
    "#Python Program to Transpose a Matrix using Nested List Comprehension"
   ]
  },
  {
   "cell_type": "code",
   "execution_count": null,
   "metadata": {},
   "outputs": [],
   "source": [
    "#Python Program to Multiply Two Matrices using Nested Loop"
   ]
  },
  {
   "cell_type": "code",
   "execution_count": null,
   "metadata": {},
   "outputs": [],
   "source": [
    "#Python Program to Multiply Two Matrices using Nested List Comprehension"
   ]
  },
  {
   "cell_type": "code",
   "execution_count": null,
   "metadata": {},
   "outputs": [],
   "source": [
    "#Python Program to Check Whether a String is Palindrome or Not"
   ]
  },
  {
   "cell_type": "code",
   "execution_count": null,
   "metadata": {},
   "outputs": [],
   "source": [
    "#Python Program to Remove Punctuations From a String"
   ]
  },
  {
   "cell_type": "code",
   "execution_count": null,
   "metadata": {},
   "outputs": [],
   "source": [
    "#Python Program to Sort Words in Alphabetic Order\n",
    "#Python Program to Illustrate Different Set Operations\n",
    "#Python Program to Count the Number of Each Vowel \n",
    "#Python Program to Count the Number of Each Vowel Using a list and a dictionary comprehension\n",
    "#Python Program Given a string, find the length of the longest substring without repeating characters.\n",
    "#Python Program Given an array of integers, return indices of the two numbers such that they add up to a specific target.\n",
    "#Python Program Given a sorted integer array without duplicates, return the summary of its ranges.\n",
    "#Python Program to Rotate an array of n elements to the right by k steps.\n",
    "#Python Program to Consider an array of non-negative integers. A second array is formed by shuffling the elements of the first array and deleting a random element. Given these two arrays, #Python Program Given a collection of intervals which are already sorted by start number, merge all overlapping intervals.\n",
    "#Python Program Given a list slice it into a 3 equal chunks and revert each list\n",
    "#write a program to calculate exponents of an input\n",
    "#write a program to multiply two Matrix \n",
    "#write a program to find and print the remainder of two number\n",
    "#Python program to compute sum of digits in number\n",
    "#Python program to Sort the list in ascending order\n",
    "#Python program to Sort the list in descending order\n",
    "#Removes the item at the given index from the list and returns the removed item\n",
    "#Returns the number of times the specified element appears in the list\n",
    "#access first characters in a string\n",
    "#access Last characters in a string\n",
    "# Generate a list by list comprehension\n",
    "# Set the values in the new list to upper case\n",
    "# Sort the string list alphabetically\n",
    "# Join Two Sets\n",
    "#keep only the items that are present in both sets\n",
    "#Keep All items from List But NOT the Duplicates\n",
    "# Create and print a dictionary\n",
    "# Calculate the length of dictionary"
   ]
  }
 ],
 "metadata": {
  "kernelspec": {
   "display_name": "Python 3",
   "language": "python",
   "name": "python3"
  },
  "language_info": {
   "codemirror_mode": {
    "name": "ipython",
    "version": 3
   },
   "file_extension": ".py",
   "mimetype": "text/x-python",
   "name": "python",
   "nbconvert_exporter": "python",
   "pygments_lexer": "ipython3",
   "version": "3.8.5"
  }
 },
 "nbformat": 4,
 "nbformat_minor": 4
}
