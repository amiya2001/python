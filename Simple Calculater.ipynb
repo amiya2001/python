{
 "cells": [
  {
   "cell_type": "markdown",
   "metadata": {},
   "source": [
    "$Python$ $Program$ $to$ $Make$ $a$ $Simple$ $Calculator$ $:-$"
   ]
  },
  {
   "cell_type": "code",
   "execution_count": 6,
   "metadata": {},
   "outputs": [
    {
     "name": "stdin",
     "output_type": "stream",
     "text": [
      "Enter how many operation you want to do here: 5\n",
      "Enter the Number:  12\n",
      "Choose any one operation here(+,-,*,/,%) *\n",
      "Enter the Number:  5\n"
     ]
    },
    {
     "name": "stdout",
     "output_type": "stream",
     "text": [
      "The multiplication of 12.0 and 5.0 is\n",
      " 60.0\n"
     ]
    },
    {
     "name": "stdin",
     "output_type": "stream",
     "text": [
      "Choose any one operation here(+,-,*,/,%) +\n",
      "Enter the Number:  12\n"
     ]
    },
    {
     "name": "stdout",
     "output_type": "stream",
     "text": [
      "The Summision of 60.0 and 12.0 is\n",
      " 72.0\n"
     ]
    },
    {
     "name": "stdin",
     "output_type": "stream",
     "text": [
      "Choose any one operation here(+,-,*,/,%) +\n",
      "Enter the Number:  1\n"
     ]
    },
    {
     "name": "stdout",
     "output_type": "stream",
     "text": [
      "The Summision of 72.0 and 1.0 is\n",
      " 73.0\n"
     ]
    },
    {
     "name": "stdin",
     "output_type": "stream",
     "text": [
      "Choose any one operation here(+,-,*,/,%) +\n",
      "Enter the Number:  2\n"
     ]
    },
    {
     "name": "stdout",
     "output_type": "stream",
     "text": [
      "The Summision of 73.0 and 2.0 is\n",
      " 75.0\n"
     ]
    }
   ],
   "source": [
    "op=int(input('Enter how many operation you want to do here:'))\n",
    "no1=float(input('Enter the Number: '))\n",
    "for i in range(1,op):\n",
    "    ope=input(\"Choose any one operation here(+,-,*,/,%)\")\n",
    "    no=float(input('Enter the Number: '))\n",
    "    if(ope=='+'):\n",
    "        result=no1+no\n",
    "        print('The Summision of {0} and {1} is\\n {2}'.format(no1,no,result))\n",
    "    elif(ope=='-'):\n",
    "        result=no1-no\n",
    "        print('The substraction of {0} and {1} is\\n {2}'.format(no1,no,result))\n",
    "    elif(ope=='*'):\n",
    "        result=no1*no\n",
    "        print('The multiplication of {0} and {1} is\\n {2}'.format(no1,no,result))\n",
    "    elif(ope=='/'):\n",
    "        result=no1/no\n",
    "        print('The Division of {0} and {1} is\\n {2}'.format(no1,no,result))\n",
    "    else:\n",
    "        result=no1%no\n",
    "        print('The Modulo Division of {0} and {1} is\\n {2}'.format(no1,no,result))\n",
    "    \n",
    "    no1=result  \n",
    "    "
   ]
  },
  {
   "cell_type": "code",
   "execution_count": null,
   "metadata": {},
   "outputs": [],
   "source": []
  }
 ],
 "metadata": {
  "kernelspec": {
   "display_name": "Python 3",
   "language": "python",
   "name": "python3"
  },
  "language_info": {
   "codemirror_mode": {
    "name": "ipython",
    "version": 3
   },
   "file_extension": ".py",
   "mimetype": "text/x-python",
   "name": "python",
   "nbconvert_exporter": "python",
   "pygments_lexer": "ipython3",
   "version": "3.8.5"
  }
 },
 "nbformat": 4,
 "nbformat_minor": 4
}
