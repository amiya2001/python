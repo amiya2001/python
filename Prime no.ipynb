{
 "cells": [
  {
   "cell_type": "markdown",
   "metadata": {},
   "source": [
    "* 7.$Write$ $a$ $Python$ $Program$ $to$ $check$ $if$ $a$ $number$ $is$ $prime$ $or$ $not$ $:-$"
   ]
  },
  {
   "cell_type": "code",
   "execution_count": 2,
   "metadata": {},
   "outputs": [
    {
     "name": "stdin",
     "output_type": "stream",
     "text": [
      "Enter the Number 2\n"
     ]
    },
    {
     "data": {
      "text/plain": [
       "'Prime Number'"
      ]
     },
     "execution_count": 2,
     "metadata": {},
     "output_type": "execute_result"
    }
   ],
   "source": [
    "n=int(input('Enter the Number'))\n",
    "count=0\n",
    "i=1\n",
    "while(i<=n):\n",
    "    if n%i==0:\n",
    "            count+=1\n",
    "    i+=1\n",
    "\n",
    "'Prime Number' if count==2 else 'Not a Prime Number'"
   ]
  },
  {
   "cell_type": "markdown",
   "metadata": {},
   "source": [
    "* 8.$Python$ $program$ $to$ $display$ $all$ $the$ $prime$ $numbers$ $within$ $an$ $interval$ $:-$"
   ]
  },
  {
   "cell_type": "code",
   "execution_count": 3,
   "metadata": {},
   "outputs": [
    {
     "name": "stdout",
     "output_type": "stream",
     "text": [
      "The prime no are\n",
      "2,3,5,7,11,13,17,19,23,29,31,37,41,43,47,53,59,61,67,71,73,79,83,89,97,\n",
      " Ther are 25 Prime no in between 0 to 100\n"
     ]
    }
   ],
   "source": [
    "np=0\n",
    "print('The prime no are')\n",
    "for n in range(2,100): \n",
    "    count=0\n",
    "    i=1\n",
    "    while(i<=n):\n",
    "        if n%i==0:\n",
    "            \n",
    "            count+=1\n",
    "        i+=1\n",
    "    if count==2:\n",
    "        print(n,end=',')\n",
    "        np+=1\n",
    "print('\\n Ther are {0} Prime no in between 0 to 100'.format(np))"
   ]
  },
  {
   "cell_type": "code",
   "execution_count": null,
   "metadata": {},
   "outputs": [],
   "source": []
  }
 ],
 "metadata": {
  "kernelspec": {
   "display_name": "Python 3",
   "language": "python",
   "name": "python3"
  },
  "language_info": {
   "codemirror_mode": {
    "name": "ipython",
    "version": 3
   },
   "file_extension": ".py",
   "mimetype": "text/x-python",
   "name": "python",
   "nbconvert_exporter": "python",
   "pygments_lexer": "ipython3",
   "version": "3.8.5"
  }
 },
 "nbformat": 4,
 "nbformat_minor": 4
}
