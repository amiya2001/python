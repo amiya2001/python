{
 "cells": [
  {
   "cell_type": "markdown",
   "metadata": {},
   "source": [
    "## 4.Iterating over rows and columns"
   ]
  },
  {
   "cell_type": "markdown",
   "metadata": {},
   "source": [
    "* Iteration is a general term for taking each item of something, one after another. \n",
    "\n",
    "* Pandas DataFrame consists of rows and columns so, in order to iterate over dataframe, we have to iterate a dataframe like a dictionary.\n",
    "\n",
    "* In a dictionary, we iterate over the keys of the object in the same way we have to iterate in dataframe.\n",
    "\n"
   ]
  },
  {
   "cell_type": "markdown",
   "metadata": {},
   "source": [
    "* In Pandas Dataframe we can iterate an element in two ways:\n",
    "\n",
    "             * Iterating over rows\n",
    "             * Iterating over columns"
   ]
  },
  {
   "cell_type": "markdown",
   "metadata": {},
   "source": [
    "* $Iterating$ $over$ $rows$ $:-$\n",
    "\n",
    "-> In order to iterate over rows, we can use three function $iteritems()$, $iterrows()$, $itertuples()$ . These three function will help in iteration over rows.\n",
    "\n"
   ]
  },
  {
   "cell_type": "markdown",
   "metadata": {},
   "source": [
    "    Iteration over rows using iterrows():-\n",
    "    \n",
    "* In order to iterate over rows, we apply a $iterrows()$ function.\n",
    "\n",
    "* This function return each index value along with a series containing the data in each row.  \n",
    "\n",
    "      "
   ]
  },
  {
   "cell_type": "code",
   "execution_count": 2,
   "metadata": {},
   "outputs": [
    {
     "name": "stdout",
     "output_type": "stream",
     "text": [
      "     name  degree  score\n",
      "0  aparna     MBA     90\n",
      "1  pankaj     BCA     40\n",
      "2  sudhir  M.Tech     80\n",
      "3   Geeku     MBA     98\n",
      "0 name      aparna\n",
      "degree       MBA\n",
      "score         90\n",
      "Name: 0, dtype: object\n",
      "\n",
      "1 name      pankaj\n",
      "degree       BCA\n",
      "score         40\n",
      "Name: 1, dtype: object\n",
      "\n",
      "2 name      sudhir\n",
      "degree    M.Tech\n",
      "score         80\n",
      "Name: 2, dtype: object\n",
      "\n",
      "3 name      Geeku\n",
      "degree      MBA\n",
      "score        98\n",
      "Name: 3, dtype: object\n",
      "\n"
     ]
    }
   ],
   "source": [
    "# importing pandas as pd\n",
    "import pandas as pd\n",
    "   \n",
    "# dictionary of lists\n",
    "dict = {'name':[\"aparna\", \"pankaj\", \"sudhir\", \"Geeku\"],\n",
    "        'degree': [\"MBA\", \"BCA\", \"M.Tech\", \"MBA\"],\n",
    "        'score':[90, 40, 80, 98]}\n",
    "  \n",
    "# creating a dataframe from a dictionary \n",
    "df = pd.DataFrame(dict)\n",
    "  \n",
    "print(df)\n",
    "\n",
    "# iterating over rows using iterrows() function \n",
    "for i, j in df.iterrows():\n",
    "    print(i, j)\n",
    "    print()"
   ]
  },
  {
   "cell_type": "markdown",
   "metadata": {},
   "source": [
    "    Iteration over rows using iteritems():-\n",
    "    \n",
    "* In order to iterate over rows, we use $iteritems()$ function.\n",
    "\n",
    "* This function iterates over each column as key, value pair with label as key and column value as a Series object.\n",
    "\n",
    "      "
   ]
  },
  {
   "cell_type": "code",
   "execution_count": 4,
   "metadata": {},
   "outputs": [
    {
     "name": "stdout",
     "output_type": "stream",
     "text": [
      "     name  degree  score\n",
      "0  aparna     MBA     90\n",
      "1  pankaj     BCA     40\n",
      "2  sudhir  M.Tech     80\n",
      "3   Geeku     MBA     98\n",
      "name 0    aparna\n",
      "1    pankaj\n",
      "2    sudhir\n",
      "3     Geeku\n",
      "Name: name, dtype: object\n",
      "\n",
      "degree 0       MBA\n",
      "1       BCA\n",
      "2    M.Tech\n",
      "3       MBA\n",
      "Name: degree, dtype: object\n",
      "\n",
      "score 0    90\n",
      "1    40\n",
      "2    80\n",
      "3    98\n",
      "Name: score, dtype: int64\n",
      "\n"
     ]
    }
   ],
   "source": [
    "# dictionary of lists\n",
    "dict = {'name':[\"aparna\", \"pankaj\", \"sudhir\", \"Geeku\"],\n",
    "        'degree': [\"MBA\", \"BCA\", \"M.Tech\", \"MBA\"],\n",
    "        'score':[90, 40, 80, 98]}\n",
    "  \n",
    "# creating a dataframe from a dictionary \n",
    "df = pd.DataFrame(dict)\n",
    "  \n",
    "print(df)\n",
    "\n",
    "# using iteritems() function to retrieve rows\n",
    "for key, value in df.iteritems():\n",
    "    print(key, value)\n",
    "    print()"
   ]
  },
  {
   "cell_type": "markdown",
   "metadata": {},
   "source": [
    "     Iteration over rows using itertuples():-\n",
    "     \n",
    "* In order to iterate over rows, we apply a function $itertuples()$.\n",
    "\n",
    "* This function return a tuple for each row in the DataFrame.\n",
    "\n",
    "* The first element of the tuple will be the row’s corresponding index value, while the remaining values are the row values.\n",
    "\n"
   ]
  },
  {
   "cell_type": "code",
   "execution_count": 6,
   "metadata": {},
   "outputs": [
    {
     "name": "stdout",
     "output_type": "stream",
     "text": [
      "     name  degree  score\n",
      "0  aparna     MBA     90\n",
      "1  pankaj     BCA     40\n",
      "2  sudhir  M.Tech     80\n",
      "3   Geeku     MBA     98\n",
      "Pandas(Index=0, name='aparna', degree='MBA', score=90)\n",
      "Pandas(Index=1, name='pankaj', degree='BCA', score=40)\n",
      "Pandas(Index=2, name='sudhir', degree='M.Tech', score=80)\n",
      "Pandas(Index=3, name='Geeku', degree='MBA', score=98)\n"
     ]
    }
   ],
   "source": [
    "# dictionary of lists\n",
    "dict = {'name':[\"aparna\", \"pankaj\", \"sudhir\", \"Geeku\"],\n",
    "        'degree': [\"MBA\", \"BCA\", \"M.Tech\", \"MBA\"],\n",
    "        'score':[90, 40, 80, 98]}\n",
    "  \n",
    "# creating a dataframe from a dictionary \n",
    "df = pd.DataFrame(dict)\n",
    "  \n",
    "print(df)\n",
    "\n",
    "# using a itertuples() \n",
    "for i in df.itertuples():\n",
    "    print(i)"
   ]
  },
  {
   "cell_type": "markdown",
   "metadata": {},
   "source": [
    "* $Iterating$ $over$ $Columns$ $:-$\n",
    "\n",
    "-> In order to iterate over columns, we need to create a list of dataframe columns and then iterating through that list to pull out the dataframe columns."
   ]
  },
  {
   "cell_type": "code",
   "execution_count": 9,
   "metadata": {},
   "outputs": [
    {
     "name": "stdout",
     "output_type": "stream",
     "text": [
      "     name  degree  score\n",
      "0  aparna     MBA     90\n",
      "1  pankaj     BCA     40\n",
      "2  sudhir  M.Tech     80\n",
      "3   Geeku     MBA     98\n",
      "sudhir\n",
      "M.Tech\n",
      "80\n"
     ]
    }
   ],
   "source": [
    "# dictionary of lists\n",
    "dict = {'name':[\"aparna\", \"pankaj\", \"sudhir\", \"Geeku\"],\n",
    "        'degree': [\"MBA\", \"BCA\", \"M.Tech\", \"MBA\"],\n",
    "        'score':[90, 40, 80, 98]}\n",
    "   \n",
    "# creating a dataframe from a dictionary \n",
    "df = pd.DataFrame(dict)\n",
    "  \n",
    "print(df)\n",
    "\n",
    "# creating a list of dataframe columns\n",
    "columns = list(df)\n",
    "  \n",
    "for i in columns:\n",
    "  \n",
    "    # printing the third element of the column\n",
    "    print (df[i][2])"
   ]
  },
  {
   "cell_type": "markdown",
   "metadata": {},
   "source": [
    "                DataFrame Methods:\n",
    "\n",
    "      FUNCTION                DESCRIPTION\n",
    "      \n",
    "* index()--------------------------Method returns index (row labels) of the DataFrame\n",
    "\n",
    "* insert()------------------------Method inserts a column into a DataFrame\n",
    "\n",
    "* add()---------------------------Method returns addition of dataframe and other, element-wise (binary operator add)\n",
    "\n",
    "* sub()------------------------Method returns subtraction of dataframe and other, element-wise (binary operator sub)\n",
    "\n",
    "* mul()------------------------Method returns multiplication of dataframe and other, element-wise (binary operator mul)\n",
    "\n",
    "* div()---------------------------Method returns floating division of dataframe and other, element-wise (binary operator truediv)\n",
    "\n",
    "* unique()-------------------Method extracts the unique values in the dataframe\n",
    "\n",
    "* nunique()-------------------Method returns count of the unique values in the dataframe\n",
    "\n",
    "* value_counts()--------------Method counts the number of times each unique value occurs within the Series\n",
    "\n",
    "* columns()------------------Method returns the column labels of the DataFrame\n",
    "\n",
    "* axes()-----------------Method returns a list representing the axes of the DataFrame\n",
    "\n",
    "* isnull()-------------Method creates a Boolean Series for extracting rows with null values\n",
    "\n",
    "* notnull()----------------------Method creates a Boolean Series for extracting rows with non-null values\n",
    "\n",
    "* between()------------------Method extracts rows where a column value falls in between a predefined range\n",
    "\n",
    "* isin()---------------------Method extracts rows from a DataFrame where a column value exists in a predefined collection\n",
    "\n",
    "* dtypes()--------------------Method returns a Series with the data type of each column. The result’s index is the original DataFrame’s columns\n",
    "\n",
    "* astype()--------------------Method converts the data types in a Series\n",
    "\n",
    "* values()-----------------------Method returns a Numpy representation of the DataFrame i.e. only the values in the DataFrame will be returned, the axes labels will be removed\n",
    "\n",
    "* sort_values()- Set1, Set2-----------------Method sorts a data frame in Ascending or Descending order of passed Column\n",
    "\n",
    "* sort_index()----------------------Method sorts the values in a DataFrame based on their index positions or labels instead of their values but sometimes a data frame is made out of two or more data frames and hence later index can be changed using this method\n",
    "\n",
    "* loc[]------------------Method retrieves rows based on index label\n",
    "\n",
    "* iloc[]-----------------Method retrieves rows based on index position\n",
    "\n",
    "* ix[]----------------Method retrieves DataFrame rows based on either index label or index position. This method combines the best features of the .loc[] and .iloc[] methods\n",
    "\n",
    "* rename()-----------------------Method is called on a DataFrame to change the names of the index labels or column names\n",
    "\n",
    "* columns()--------------------Method is an alternative attribute to change the coloumn name\n",
    "\n",
    "* drop()-----------------------Method is used to delete rows or columns from a DataFrame\n",
    "\n",
    "* pop()------------------------Method is used to delete rows or columns from a DataFrame\n",
    "\n",
    "* sample()----------------------Method pulls out a random sample of rows or columns from a DataFrame\n",
    "\n",
    "* nsmallest()----------------Method pulls out the rows with the smallest values in a column\n",
    "\n",
    "* nlargest()----------------Method pulls out the rows with the largest values in a column\n",
    "\n",
    "* shape()------------------Method returns a tuple representing the dimensionality of the DataFrame\n",
    "\n",
    "* ndim()------------------Method returns an ‘int’ representing the number of axes / array dimensions.\n",
    "\n",
    "Returns 1 if Series, otherwise returns 2 if DataFrame\n",
    "\n",
    "* dropna()-------------------------Method allows the user to analyze and drop Rows/Columns with Null values in different ways\n",
    "\n",
    "* fillna()------------------------Method manages and let the user replace NaN values with some value of their own\n",
    "\n",
    "* rank()--------------------------Values in a Series can be ranked in order with this method\n",
    "\n",
    "* query()------------------------Method is an alternate string-based syntax for extracting a subset from a DataFrame\n",
    "\n",
    "* copy()------------------------Method creates an independent copy of a pandas object\n",
    "\n",
    "* duplicated()----------------Method creates a Boolean Series and uses it to extract rows that have duplicate values\n",
    "\n",
    "* drop_duplicates()-----------Method is an alternative option to identifying duplicate rows and removing them through filtering\n",
    "\n",
    "* set_index()-----------------Method sets the DataFrame index (row labels) using one or more existing columns\n",
    "\n",
    "* reset_index()--------------Method resets index of a Data Frame. This method sets a list of integer ranging from 0 to length of data as index\n",
    "\n",
    "* where()--------------------Method is used to check a Data Frame for one or more condition and return the result accordingly. By default, the rows not                           satisfying the condition are filled with NaN value\n",
    "\n"
   ]
  },
  {
   "cell_type": "code",
   "execution_count": null,
   "metadata": {},
   "outputs": [],
   "source": []
  }
 ],
 "metadata": {
  "kernelspec": {
   "display_name": "Python 3",
   "language": "python",
   "name": "python3"
  },
  "language_info": {
   "codemirror_mode": {
    "name": "ipython",
    "version": 3
   },
   "file_extension": ".py",
   "mimetype": "text/x-python",
   "name": "python",
   "nbconvert_exporter": "python",
   "pygments_lexer": "ipython3",
   "version": "3.8.5"
  }
 },
 "nbformat": 4,
 "nbformat_minor": 4
}
